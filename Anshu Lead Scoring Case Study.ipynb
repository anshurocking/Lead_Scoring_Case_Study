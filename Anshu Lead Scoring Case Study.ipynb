{
 "cells": [
  {
   "cell_type": "code",
   "execution_count": 1690,
   "id": "d6615fed",
   "metadata": {},
   "outputs": [],
   "source": [
    "# Importing necessary libraries\n",
    "import pandas as pd\n",
    "import numpy as np\n",
    "import matplotlib.pyplot as plt\n",
    "import seaborn as sns\n",
    "from sklearn.model_selection import train_test_split\n",
    "from sklearn.preprocessing import StandardScaler\n",
    "import statsmodels.api as sm\n",
    "from sklearn import metrics\n",
    "from sklearn.metrics import confusion_matrix\n",
    "from sklearn.linear_model import LogisticRegression\n",
    "from sklearn.feature_selection import RFE\n",
    "from statsmodels.stats.outliers_influence import variance_inflation_factor"
   ]
  },
  {
   "cell_type": "code",
   "execution_count": 1691,
   "id": "e144776d",
   "metadata": {},
   "outputs": [],
   "source": [
    "# Suppressing Warnings\n",
    "import warnings\n",
    "warnings.filterwarnings('ignore')"
   ]
  },
  {
   "cell_type": "code",
   "execution_count": 1692,
   "id": "9b2f0f90",
   "metadata": {},
   "outputs": [],
   "source": [
    "# Reading leads.csv file\n",
    "leads = pd.read_csv(\"leads.csv\")"
   ]
  },
  {
   "cell_type": "markdown",
   "id": "98531c0a",
   "metadata": {},
   "source": [
    "## Importing and understanding the data"
   ]
  },
  {
   "cell_type": "code",
   "execution_count": 1693,
   "id": "bd31ef19",
   "metadata": {},
   "outputs": [
    {
     "data": {
      "text/html": [
       "<div>\n",
       "<style scoped>\n",
       "    .dataframe tbody tr th:only-of-type {\n",
       "        vertical-align: middle;\n",
       "    }\n",
       "\n",
       "    .dataframe tbody tr th {\n",
       "        vertical-align: top;\n",
       "    }\n",
       "\n",
       "    .dataframe thead th {\n",
       "        text-align: right;\n",
       "    }\n",
       "</style>\n",
       "<table border=\"1\" class=\"dataframe\">\n",
       "  <thead>\n",
       "    <tr style=\"text-align: right;\">\n",
       "      <th></th>\n",
       "      <th>Prospect ID</th>\n",
       "      <th>Lead Number</th>\n",
       "      <th>Lead Origin</th>\n",
       "      <th>Lead Source</th>\n",
       "      <th>Do Not Email</th>\n",
       "      <th>Do Not Call</th>\n",
       "      <th>Converted</th>\n",
       "      <th>TotalVisits</th>\n",
       "      <th>Total Time Spent on Website</th>\n",
       "      <th>Page Views Per Visit</th>\n",
       "      <th>...</th>\n",
       "      <th>Get updates on DM Content</th>\n",
       "      <th>Lead Profile</th>\n",
       "      <th>City</th>\n",
       "      <th>Asymmetrique Activity Index</th>\n",
       "      <th>Asymmetrique Profile Index</th>\n",
       "      <th>Asymmetrique Activity Score</th>\n",
       "      <th>Asymmetrique Profile Score</th>\n",
       "      <th>I agree to pay the amount through cheque</th>\n",
       "      <th>A free copy of Mastering The Interview</th>\n",
       "      <th>Last Notable Activity</th>\n",
       "    </tr>\n",
       "  </thead>\n",
       "  <tbody>\n",
       "    <tr>\n",
       "      <th>0</th>\n",
       "      <td>7927b2df-8bba-4d29-b9a2-b6e0beafe620</td>\n",
       "      <td>660737</td>\n",
       "      <td>API</td>\n",
       "      <td>Olark Chat</td>\n",
       "      <td>No</td>\n",
       "      <td>No</td>\n",
       "      <td>0</td>\n",
       "      <td>0.0</td>\n",
       "      <td>0</td>\n",
       "      <td>0.0</td>\n",
       "      <td>...</td>\n",
       "      <td>No</td>\n",
       "      <td>Select</td>\n",
       "      <td>Select</td>\n",
       "      <td>02.Medium</td>\n",
       "      <td>02.Medium</td>\n",
       "      <td>15.0</td>\n",
       "      <td>15.0</td>\n",
       "      <td>No</td>\n",
       "      <td>No</td>\n",
       "      <td>Modified</td>\n",
       "    </tr>\n",
       "    <tr>\n",
       "      <th>1</th>\n",
       "      <td>2a272436-5132-4136-86fa-dcc88c88f482</td>\n",
       "      <td>660728</td>\n",
       "      <td>API</td>\n",
       "      <td>Organic Search</td>\n",
       "      <td>No</td>\n",
       "      <td>No</td>\n",
       "      <td>0</td>\n",
       "      <td>5.0</td>\n",
       "      <td>674</td>\n",
       "      <td>2.5</td>\n",
       "      <td>...</td>\n",
       "      <td>No</td>\n",
       "      <td>Select</td>\n",
       "      <td>Select</td>\n",
       "      <td>02.Medium</td>\n",
       "      <td>02.Medium</td>\n",
       "      <td>15.0</td>\n",
       "      <td>15.0</td>\n",
       "      <td>No</td>\n",
       "      <td>No</td>\n",
       "      <td>Email Opened</td>\n",
       "    </tr>\n",
       "    <tr>\n",
       "      <th>2</th>\n",
       "      <td>8cc8c611-a219-4f35-ad23-fdfd2656bd8a</td>\n",
       "      <td>660727</td>\n",
       "      <td>Landing Page Submission</td>\n",
       "      <td>Direct Traffic</td>\n",
       "      <td>No</td>\n",
       "      <td>No</td>\n",
       "      <td>1</td>\n",
       "      <td>2.0</td>\n",
       "      <td>1532</td>\n",
       "      <td>2.0</td>\n",
       "      <td>...</td>\n",
       "      <td>No</td>\n",
       "      <td>Potential Lead</td>\n",
       "      <td>Mumbai</td>\n",
       "      <td>02.Medium</td>\n",
       "      <td>01.High</td>\n",
       "      <td>14.0</td>\n",
       "      <td>20.0</td>\n",
       "      <td>No</td>\n",
       "      <td>Yes</td>\n",
       "      <td>Email Opened</td>\n",
       "    </tr>\n",
       "    <tr>\n",
       "      <th>3</th>\n",
       "      <td>0cc2df48-7cf4-4e39-9de9-19797f9b38cc</td>\n",
       "      <td>660719</td>\n",
       "      <td>Landing Page Submission</td>\n",
       "      <td>Direct Traffic</td>\n",
       "      <td>No</td>\n",
       "      <td>No</td>\n",
       "      <td>0</td>\n",
       "      <td>1.0</td>\n",
       "      <td>305</td>\n",
       "      <td>1.0</td>\n",
       "      <td>...</td>\n",
       "      <td>No</td>\n",
       "      <td>Select</td>\n",
       "      <td>Mumbai</td>\n",
       "      <td>02.Medium</td>\n",
       "      <td>01.High</td>\n",
       "      <td>13.0</td>\n",
       "      <td>17.0</td>\n",
       "      <td>No</td>\n",
       "      <td>No</td>\n",
       "      <td>Modified</td>\n",
       "    </tr>\n",
       "    <tr>\n",
       "      <th>4</th>\n",
       "      <td>3256f628-e534-4826-9d63-4a8b88782852</td>\n",
       "      <td>660681</td>\n",
       "      <td>Landing Page Submission</td>\n",
       "      <td>Google</td>\n",
       "      <td>No</td>\n",
       "      <td>No</td>\n",
       "      <td>1</td>\n",
       "      <td>2.0</td>\n",
       "      <td>1428</td>\n",
       "      <td>1.0</td>\n",
       "      <td>...</td>\n",
       "      <td>No</td>\n",
       "      <td>Select</td>\n",
       "      <td>Mumbai</td>\n",
       "      <td>02.Medium</td>\n",
       "      <td>01.High</td>\n",
       "      <td>15.0</td>\n",
       "      <td>18.0</td>\n",
       "      <td>No</td>\n",
       "      <td>No</td>\n",
       "      <td>Modified</td>\n",
       "    </tr>\n",
       "  </tbody>\n",
       "</table>\n",
       "<p>5 rows × 37 columns</p>\n",
       "</div>"
      ],
      "text/plain": [
       "                            Prospect ID  Lead Number              Lead Origin  \\\n",
       "0  7927b2df-8bba-4d29-b9a2-b6e0beafe620       660737                      API   \n",
       "1  2a272436-5132-4136-86fa-dcc88c88f482       660728                      API   \n",
       "2  8cc8c611-a219-4f35-ad23-fdfd2656bd8a       660727  Landing Page Submission   \n",
       "3  0cc2df48-7cf4-4e39-9de9-19797f9b38cc       660719  Landing Page Submission   \n",
       "4  3256f628-e534-4826-9d63-4a8b88782852       660681  Landing Page Submission   \n",
       "\n",
       "      Lead Source Do Not Email Do Not Call  Converted  TotalVisits  \\\n",
       "0      Olark Chat           No          No          0          0.0   \n",
       "1  Organic Search           No          No          0          5.0   \n",
       "2  Direct Traffic           No          No          1          2.0   \n",
       "3  Direct Traffic           No          No          0          1.0   \n",
       "4          Google           No          No          1          2.0   \n",
       "\n",
       "   Total Time Spent on Website  Page Views Per Visit  ...  \\\n",
       "0                            0                   0.0  ...   \n",
       "1                          674                   2.5  ...   \n",
       "2                         1532                   2.0  ...   \n",
       "3                          305                   1.0  ...   \n",
       "4                         1428                   1.0  ...   \n",
       "\n",
       "  Get updates on DM Content    Lead Profile    City  \\\n",
       "0                        No          Select  Select   \n",
       "1                        No          Select  Select   \n",
       "2                        No  Potential Lead  Mumbai   \n",
       "3                        No          Select  Mumbai   \n",
       "4                        No          Select  Mumbai   \n",
       "\n",
       "  Asymmetrique Activity Index Asymmetrique Profile Index  \\\n",
       "0                   02.Medium                  02.Medium   \n",
       "1                   02.Medium                  02.Medium   \n",
       "2                   02.Medium                    01.High   \n",
       "3                   02.Medium                    01.High   \n",
       "4                   02.Medium                    01.High   \n",
       "\n",
       "  Asymmetrique Activity Score Asymmetrique Profile Score  \\\n",
       "0                        15.0                       15.0   \n",
       "1                        15.0                       15.0   \n",
       "2                        14.0                       20.0   \n",
       "3                        13.0                       17.0   \n",
       "4                        15.0                       18.0   \n",
       "\n",
       "  I agree to pay the amount through cheque  \\\n",
       "0                                       No   \n",
       "1                                       No   \n",
       "2                                       No   \n",
       "3                                       No   \n",
       "4                                       No   \n",
       "\n",
       "  A free copy of Mastering The Interview Last Notable Activity  \n",
       "0                                     No              Modified  \n",
       "1                                     No          Email Opened  \n",
       "2                                    Yes          Email Opened  \n",
       "3                                     No              Modified  \n",
       "4                                     No              Modified  \n",
       "\n",
       "[5 rows x 37 columns]"
      ]
     },
     "execution_count": 1693,
     "metadata": {},
     "output_type": "execute_result"
    }
   ],
   "source": [
    "leads.head()"
   ]
  },
  {
   "cell_type": "code",
   "execution_count": 1694,
   "id": "4f241d47",
   "metadata": {},
   "outputs": [
    {
     "data": {
      "text/plain": [
       "Index(['Prospect ID', 'Lead Number', 'Lead Origin', 'Lead Source',\n",
       "       'Do Not Email', 'Do Not Call', 'Converted', 'TotalVisits',\n",
       "       'Total Time Spent on Website', 'Page Views Per Visit', 'Last Activity',\n",
       "       'Country', 'Specialization', 'How did you hear about X Education',\n",
       "       'What is your current occupation',\n",
       "       'What matters most to you in choosing a course', 'Search', 'Magazine',\n",
       "       'Newspaper Article', 'X Education Forums', 'Newspaper',\n",
       "       'Digital Advertisement', 'Through Recommendations',\n",
       "       'Receive More Updates About Our Courses', 'Tags', 'Lead Quality',\n",
       "       'Update me on Supply Chain Content', 'Get updates on DM Content',\n",
       "       'Lead Profile', 'City', 'Asymmetrique Activity Index',\n",
       "       'Asymmetrique Profile Index', 'Asymmetrique Activity Score',\n",
       "       'Asymmetrique Profile Score',\n",
       "       'I agree to pay the amount through cheque',\n",
       "       'A free copy of Mastering The Interview', 'Last Notable Activity'],\n",
       "      dtype='object')"
      ]
     },
     "execution_count": 1694,
     "metadata": {},
     "output_type": "execute_result"
    }
   ],
   "source": [
    "leads.columns"
   ]
  },
  {
   "cell_type": "code",
   "execution_count": 1695,
   "id": "b9ab50ca",
   "metadata": {},
   "outputs": [
    {
     "name": "stdout",
     "output_type": "stream",
     "text": [
      "<class 'pandas.core.frame.DataFrame'>\n",
      "RangeIndex: 9240 entries, 0 to 9239\n",
      "Data columns (total 37 columns):\n",
      " #   Column                                         Non-Null Count  Dtype  \n",
      "---  ------                                         --------------  -----  \n",
      " 0   Prospect ID                                    9240 non-null   object \n",
      " 1   Lead Number                                    9240 non-null   int64  \n",
      " 2   Lead Origin                                    9240 non-null   object \n",
      " 3   Lead Source                                    9204 non-null   object \n",
      " 4   Do Not Email                                   9240 non-null   object \n",
      " 5   Do Not Call                                    9240 non-null   object \n",
      " 6   Converted                                      9240 non-null   int64  \n",
      " 7   TotalVisits                                    9103 non-null   float64\n",
      " 8   Total Time Spent on Website                    9240 non-null   int64  \n",
      " 9   Page Views Per Visit                           9103 non-null   float64\n",
      " 10  Last Activity                                  9137 non-null   object \n",
      " 11  Country                                        6779 non-null   object \n",
      " 12  Specialization                                 7802 non-null   object \n",
      " 13  How did you hear about X Education             7033 non-null   object \n",
      " 14  What is your current occupation                6550 non-null   object \n",
      " 15  What matters most to you in choosing a course  6531 non-null   object \n",
      " 16  Search                                         9240 non-null   object \n",
      " 17  Magazine                                       9240 non-null   object \n",
      " 18  Newspaper Article                              9240 non-null   object \n",
      " 19  X Education Forums                             9240 non-null   object \n",
      " 20  Newspaper                                      9240 non-null   object \n",
      " 21  Digital Advertisement                          9240 non-null   object \n",
      " 22  Through Recommendations                        9240 non-null   object \n",
      " 23  Receive More Updates About Our Courses         9240 non-null   object \n",
      " 24  Tags                                           5887 non-null   object \n",
      " 25  Lead Quality                                   4473 non-null   object \n",
      " 26  Update me on Supply Chain Content              9240 non-null   object \n",
      " 27  Get updates on DM Content                      9240 non-null   object \n",
      " 28  Lead Profile                                   6531 non-null   object \n",
      " 29  City                                           7820 non-null   object \n",
      " 30  Asymmetrique Activity Index                    5022 non-null   object \n",
      " 31  Asymmetrique Profile Index                     5022 non-null   object \n",
      " 32  Asymmetrique Activity Score                    5022 non-null   float64\n",
      " 33  Asymmetrique Profile Score                     5022 non-null   float64\n",
      " 34  I agree to pay the amount through cheque       9240 non-null   object \n",
      " 35  A free copy of Mastering The Interview         9240 non-null   object \n",
      " 36  Last Notable Activity                          9240 non-null   object \n",
      "dtypes: float64(4), int64(3), object(30)\n",
      "memory usage: 2.6+ MB\n"
     ]
    }
   ],
   "source": [
    "leads.info()"
   ]
  },
  {
   "cell_type": "code",
   "execution_count": 1696,
   "id": "452406f7",
   "metadata": {},
   "outputs": [
    {
     "data": {
      "text/html": [
       "<div>\n",
       "<style scoped>\n",
       "    .dataframe tbody tr th:only-of-type {\n",
       "        vertical-align: middle;\n",
       "    }\n",
       "\n",
       "    .dataframe tbody tr th {\n",
       "        vertical-align: top;\n",
       "    }\n",
       "\n",
       "    .dataframe thead th {\n",
       "        text-align: right;\n",
       "    }\n",
       "</style>\n",
       "<table border=\"1\" class=\"dataframe\">\n",
       "  <thead>\n",
       "    <tr style=\"text-align: right;\">\n",
       "      <th></th>\n",
       "      <th>Lead Number</th>\n",
       "      <th>Converted</th>\n",
       "      <th>TotalVisits</th>\n",
       "      <th>Total Time Spent on Website</th>\n",
       "      <th>Page Views Per Visit</th>\n",
       "      <th>Asymmetrique Activity Score</th>\n",
       "      <th>Asymmetrique Profile Score</th>\n",
       "    </tr>\n",
       "  </thead>\n",
       "  <tbody>\n",
       "    <tr>\n",
       "      <th>count</th>\n",
       "      <td>9240.000000</td>\n",
       "      <td>9240.000000</td>\n",
       "      <td>9103.000000</td>\n",
       "      <td>9240.000000</td>\n",
       "      <td>9103.000000</td>\n",
       "      <td>5022.000000</td>\n",
       "      <td>5022.000000</td>\n",
       "    </tr>\n",
       "    <tr>\n",
       "      <th>mean</th>\n",
       "      <td>617188.435606</td>\n",
       "      <td>0.385390</td>\n",
       "      <td>3.445238</td>\n",
       "      <td>487.698268</td>\n",
       "      <td>2.362820</td>\n",
       "      <td>14.306252</td>\n",
       "      <td>16.344883</td>\n",
       "    </tr>\n",
       "    <tr>\n",
       "      <th>std</th>\n",
       "      <td>23405.995698</td>\n",
       "      <td>0.486714</td>\n",
       "      <td>4.854853</td>\n",
       "      <td>548.021466</td>\n",
       "      <td>2.161418</td>\n",
       "      <td>1.386694</td>\n",
       "      <td>1.811395</td>\n",
       "    </tr>\n",
       "    <tr>\n",
       "      <th>min</th>\n",
       "      <td>579533.000000</td>\n",
       "      <td>0.000000</td>\n",
       "      <td>0.000000</td>\n",
       "      <td>0.000000</td>\n",
       "      <td>0.000000</td>\n",
       "      <td>7.000000</td>\n",
       "      <td>11.000000</td>\n",
       "    </tr>\n",
       "    <tr>\n",
       "      <th>25%</th>\n",
       "      <td>596484.500000</td>\n",
       "      <td>0.000000</td>\n",
       "      <td>1.000000</td>\n",
       "      <td>12.000000</td>\n",
       "      <td>1.000000</td>\n",
       "      <td>14.000000</td>\n",
       "      <td>15.000000</td>\n",
       "    </tr>\n",
       "    <tr>\n",
       "      <th>50%</th>\n",
       "      <td>615479.000000</td>\n",
       "      <td>0.000000</td>\n",
       "      <td>3.000000</td>\n",
       "      <td>248.000000</td>\n",
       "      <td>2.000000</td>\n",
       "      <td>14.000000</td>\n",
       "      <td>16.000000</td>\n",
       "    </tr>\n",
       "    <tr>\n",
       "      <th>75%</th>\n",
       "      <td>637387.250000</td>\n",
       "      <td>1.000000</td>\n",
       "      <td>5.000000</td>\n",
       "      <td>936.000000</td>\n",
       "      <td>3.000000</td>\n",
       "      <td>15.000000</td>\n",
       "      <td>18.000000</td>\n",
       "    </tr>\n",
       "    <tr>\n",
       "      <th>max</th>\n",
       "      <td>660737.000000</td>\n",
       "      <td>1.000000</td>\n",
       "      <td>251.000000</td>\n",
       "      <td>2272.000000</td>\n",
       "      <td>55.000000</td>\n",
       "      <td>18.000000</td>\n",
       "      <td>20.000000</td>\n",
       "    </tr>\n",
       "  </tbody>\n",
       "</table>\n",
       "</div>"
      ],
      "text/plain": [
       "         Lead Number    Converted  TotalVisits  Total Time Spent on Website  \\\n",
       "count    9240.000000  9240.000000  9103.000000                  9240.000000   \n",
       "mean   617188.435606     0.385390     3.445238                   487.698268   \n",
       "std     23405.995698     0.486714     4.854853                   548.021466   \n",
       "min    579533.000000     0.000000     0.000000                     0.000000   \n",
       "25%    596484.500000     0.000000     1.000000                    12.000000   \n",
       "50%    615479.000000     0.000000     3.000000                   248.000000   \n",
       "75%    637387.250000     1.000000     5.000000                   936.000000   \n",
       "max    660737.000000     1.000000   251.000000                  2272.000000   \n",
       "\n",
       "       Page Views Per Visit  Asymmetrique Activity Score  \\\n",
       "count           9103.000000                  5022.000000   \n",
       "mean               2.362820                    14.306252   \n",
       "std                2.161418                     1.386694   \n",
       "min                0.000000                     7.000000   \n",
       "25%                1.000000                    14.000000   \n",
       "50%                2.000000                    14.000000   \n",
       "75%                3.000000                    15.000000   \n",
       "max               55.000000                    18.000000   \n",
       "\n",
       "       Asymmetrique Profile Score  \n",
       "count                 5022.000000  \n",
       "mean                    16.344883  \n",
       "std                      1.811395  \n",
       "min                     11.000000  \n",
       "25%                     15.000000  \n",
       "50%                     16.000000  \n",
       "75%                     18.000000  \n",
       "max                     20.000000  "
      ]
     },
     "execution_count": 1696,
     "metadata": {},
     "output_type": "execute_result"
    }
   ],
   "source": [
    "leads.describe()"
   ]
  },
  {
   "cell_type": "code",
   "execution_count": 1697,
   "id": "17789a99",
   "metadata": {},
   "outputs": [
    {
     "data": {
      "text/plain": [
       "(9240, 37)"
      ]
     },
     "execution_count": 1697,
     "metadata": {},
     "output_type": "execute_result"
    }
   ],
   "source": [
    "leads.shape"
   ]
  },
  {
   "cell_type": "markdown",
   "id": "298ae223",
   "metadata": {},
   "source": [
    "## Data Preparation"
   ]
  },
  {
   "cell_type": "code",
   "execution_count": 1698,
   "id": "f7526581",
   "metadata": {},
   "outputs": [],
   "source": [
    "# Removing columns Prospect ID and Lead Number\n",
    "leads = leads.drop([\"Prospect ID\", \"Lead Number\"], axis = 1)"
   ]
  },
  {
   "cell_type": "code",
   "execution_count": 1699,
   "id": "ee33ba45",
   "metadata": {},
   "outputs": [
    {
     "data": {
      "text/plain": [
       "(9240, 22)"
      ]
     },
     "execution_count": 1699,
     "metadata": {},
     "output_type": "execute_result"
    }
   ],
   "source": [
    "# There are a lot of columns for which almost all/all rows have same value.\n",
    "#These columns can be dropped as they doesn't add any value to the model\n",
    "col_drop = [\"What matters most to you in choosing a course\",\"Search\", \"Magazine\", \"Newspaper Article\",\"X Education Forums\", \"Newspaper\", \"Digital Advertisement\", \"Through Recommendations\", \"Receive More Updates About Our Courses\", \"Update me on Supply Chain Content\", \"Get updates on DM Content\", \"I agree to pay the amount through cheque\", \"Do Not Call\"]\n",
    "leads = leads.drop(col_drop, axis =1)\n",
    "leads.shape"
   ]
  },
  {
   "cell_type": "markdown",
   "id": "d4fedf52",
   "metadata": {},
   "source": [
    "### Dealing with null values"
   ]
  },
  {
   "cell_type": "code",
   "execution_count": 1700,
   "id": "cf72cfe0",
   "metadata": {},
   "outputs": [],
   "source": [
    "# Replacing \"Select\" with null values as these are actually null values\n",
    "leads = leads.replace('Select', np.NaN)"
   ]
  },
  {
   "cell_type": "code",
   "execution_count": 1701,
   "id": "6645efd0",
   "metadata": {},
   "outputs": [
    {
     "name": "stdout",
     "output_type": "stream",
     "text": [
      "<class 'pandas.core.frame.DataFrame'>\n",
      "RangeIndex: 9240 entries, 0 to 9239\n",
      "Data columns (total 15 columns):\n",
      " #   Column                                  Non-Null Count  Dtype  \n",
      "---  ------                                  --------------  -----  \n",
      " 0   Lead Origin                             9240 non-null   object \n",
      " 1   Lead Source                             9204 non-null   object \n",
      " 2   Do Not Email                            9240 non-null   object \n",
      " 3   Converted                               9240 non-null   int64  \n",
      " 4   TotalVisits                             9103 non-null   float64\n",
      " 5   Total Time Spent on Website             9240 non-null   int64  \n",
      " 6   Page Views Per Visit                    9103 non-null   float64\n",
      " 7   Last Activity                           9137 non-null   object \n",
      " 8   Specialization                          5860 non-null   object \n",
      " 9   What is your current occupation         6550 non-null   object \n",
      " 10  Lead Quality                            4473 non-null   object \n",
      " 11  Asymmetrique Activity Index             5022 non-null   object \n",
      " 12  Asymmetrique Profile Index              5022 non-null   object \n",
      " 13  A free copy of Mastering The Interview  9240 non-null   object \n",
      " 14  Last Notable Activity                   9240 non-null   object \n",
      "dtypes: float64(2), int64(2), object(11)\n",
      "memory usage: 1.1+ MB\n"
     ]
    }
   ],
   "source": [
    "# Removing columns \"Country\", \"How did you hear about X Education\", \"Tags\", \"Lead Profile\", \"City\"\n",
    "# as these columns have high number of null values and are not important from the model point of view\n",
    "leads = leads.drop([\"Country\", \"How did you hear about X Education\", \"Tags\", \"Lead Profile\", \"City\", \"Asymmetrique Activity Score\", \"Asymmetrique Profile Score\"], axis = 1)\n",
    "leads.info()"
   ]
  },
  {
   "cell_type": "code",
   "execution_count": 1702,
   "id": "2222e00c",
   "metadata": {},
   "outputs": [],
   "source": [
    "# \"Lead Source\", \"TotalVisits\", \"Page Views Per Visit\" and \"Last Activity\" columns have very few records with null values\n",
    "# These records/rows can be dropped\n",
    "col = [\"Lead Source\", \"TotalVisits\", \"Page Views Per Visit\" , \"Last Activity\"]\n",
    "leads = leads[~leads[col].isna().any(axis=1)]"
   ]
  },
  {
   "cell_type": "code",
   "execution_count": 1703,
   "id": "685322a3",
   "metadata": {},
   "outputs": [
    {
     "name": "stdout",
     "output_type": "stream",
     "text": [
      "<class 'pandas.core.frame.DataFrame'>\n",
      "Int64Index: 9074 entries, 0 to 9239\n",
      "Data columns (total 15 columns):\n",
      " #   Column                                  Non-Null Count  Dtype  \n",
      "---  ------                                  --------------  -----  \n",
      " 0   Lead Origin                             9074 non-null   object \n",
      " 1   Lead Source                             9074 non-null   object \n",
      " 2   Do Not Email                            9074 non-null   object \n",
      " 3   Converted                               9074 non-null   int64  \n",
      " 4   TotalVisits                             9074 non-null   float64\n",
      " 5   Total Time Spent on Website             9074 non-null   int64  \n",
      " 6   Page Views Per Visit                    9074 non-null   float64\n",
      " 7   Last Activity                           9074 non-null   object \n",
      " 8   Specialization                          9074 non-null   object \n",
      " 9   What is your current occupation         9074 non-null   object \n",
      " 10  Lead Quality                            9074 non-null   object \n",
      " 11  Asymmetrique Activity Index             9074 non-null   object \n",
      " 12  Asymmetrique Profile Index              9074 non-null   object \n",
      " 13  A free copy of Mastering The Interview  9074 non-null   object \n",
      " 14  Last Notable Activity                   9074 non-null   object \n",
      "dtypes: float64(2), int64(2), object(11)\n",
      "memory usage: 1.1+ MB\n"
     ]
    }
   ],
   "source": [
    "# Replacing null values with the value \"Data Not Available\" as for columns like \"Specialization\", \"What your current occupation\"\n",
    "# these columns might add information to the model.\n",
    "leads = leads.replace(np.NaN, \"Data Not Available\")\n",
    "leads.info()"
   ]
  },
  {
   "cell_type": "markdown",
   "id": "2a45777c",
   "metadata": {},
   "source": [
    "### Reducing the number of categories/levels in categorical columns"
   ]
  },
  {
   "cell_type": "code",
   "execution_count": 1704,
   "id": "b2b70be2",
   "metadata": {},
   "outputs": [
    {
     "data": {
      "text/plain": [
       "Landing Page Submission    4885\n",
       "API                        3578\n",
       "Others                      611\n",
       "Name: Lead Origin, dtype: int64"
      ]
     },
     "execution_count": 1704,
     "metadata": {},
     "output_type": "execute_result"
    }
   ],
   "source": [
    "# \"Lead Origin\" column\n",
    "leads[\"Lead Origin\"] = leads[\"Lead Origin\"].replace([\"Lead Add Form\", \"Lead Import\"], \"Others\")\n",
    "leads[\"Lead Origin\"].value_counts()"
   ]
  },
  {
   "cell_type": "code",
   "execution_count": 1705,
   "id": "2149b6c9",
   "metadata": {},
   "outputs": [
    {
     "data": {
      "text/plain": [
       "Google            2868\n",
       "Direct Traffic    2543\n",
       "Olark Chat        1753\n",
       "Organic Search    1154\n",
       "Other              756\n",
       "Name: Lead Source, dtype: int64"
      ]
     },
     "execution_count": 1705,
     "metadata": {},
     "output_type": "execute_result"
    }
   ],
   "source": [
    "# \"Lead Source\" column\n",
    "series = pd.value_counts(leads[\"Lead Source\"])\n",
    "mask = (series/series.sum() * 100).lt(5) \n",
    "leads[\"Lead Source\"] = np.where(leads[\"Lead Source\"].isin(series[mask].index),'Other',leads[\"Lead Source\"])\n",
    "leads[\"Lead Source\"].value_counts()"
   ]
  },
  {
   "cell_type": "code",
   "execution_count": 1706,
   "id": "dd377899",
   "metadata": {},
   "outputs": [
    {
     "data": {
      "text/plain": [
       "Email Opened                 3432\n",
       "SMS Sent                     2716\n",
       "Olark Chat Conversation       972\n",
       "Page Visited on Website       640\n",
       "Converted to Lead             428\n",
       "Email Bounced                 312\n",
       "Email Link Clicked            267\n",
       "Other                         191\n",
       "Form Submitted on Website     116\n",
       "Name: Last Activity, dtype: int64"
      ]
     },
     "execution_count": 1706,
     "metadata": {},
     "output_type": "execute_result"
    }
   ],
   "source": [
    "# \"Last Activity\" column\n",
    "series = pd.value_counts(leads[\"Last Activity\"])\n",
    "mask = (series/series.sum() * 100).lt(1) \n",
    "leads[\"Last Activity\"] = np.where(leads[\"Last Activity\"].isin(series[mask].index),'Other',leads[\"Last Activity\"])\n",
    "leads[\"Last Activity\"].value_counts()"
   ]
  },
  {
   "cell_type": "code",
   "execution_count": 1707,
   "id": "a2eca96e",
   "metadata": {},
   "outputs": [
    {
     "data": {
      "text/plain": [
       "Data Not Available           3282\n",
       "Other                        2674\n",
       "Finance Management            959\n",
       "Human Resource Management     837\n",
       "Marketing Management          823\n",
       "Operations Management         499\n",
       "Name: Specialization, dtype: int64"
      ]
     },
     "execution_count": 1707,
     "metadata": {},
     "output_type": "execute_result"
    }
   ],
   "source": [
    "# \"Specialization\" column\n",
    "series = pd.value_counts(leads[\"Specialization\"])\n",
    "mask = (series/series.sum() * 100).lt(5) \n",
    "leads[\"Specialization\"] = np.where(leads[\"Specialization\"].isin(series[mask].index),'Other',leads[\"Specialization\"])\n",
    "leads[\"Specialization\"].value_counts()"
   ]
  },
  {
   "cell_type": "code",
   "execution_count": 1708,
   "id": "a55263e8",
   "metadata": {},
   "outputs": [
    {
     "data": {
      "text/plain": [
       "Unemployed              5476\n",
       "Data Not Available      2683\n",
       "Working Professional     677\n",
       "Student/Others           238\n",
       "Name: Occupation, dtype: int64"
      ]
     },
     "execution_count": 1708,
     "metadata": {},
     "output_type": "execute_result"
    }
   ],
   "source": [
    "# \"What is your current occupation\" column\n",
    "leads.rename(columns = {\"What is your current occupation\": \"Occupation\"}, inplace = True)\n",
    "series = pd.value_counts(leads[\"Occupation\"])\n",
    "mask = (series/series.sum() * 100).lt(5) \n",
    "leads[\"Occupation\"] = np.where(leads[\"Occupation\"].isin(series[mask].index),'Student/Others',leads[\"Occupation\"])\n",
    "leads[\"Occupation\"].value_counts()"
   ]
  },
  {
   "cell_type": "code",
   "execution_count": 1709,
   "id": "37383629",
   "metadata": {},
   "outputs": [
    {
     "data": {
      "text/plain": [
       "Modified        3267\n",
       "Email Opened    2823\n",
       "SMS Sent        2152\n",
       "Others           832\n",
       "Name: Last Notable Activity, dtype: int64"
      ]
     },
     "execution_count": 1709,
     "metadata": {},
     "output_type": "execute_result"
    }
   ],
   "source": [
    "# \"Last Notable Activity\" column\n",
    "series = pd.value_counts(leads[\"Last Notable Activity\"])\n",
    "mask = (series/series.sum() * 100).lt(5) \n",
    "leads[\"Last Notable Activity\"] = np.where(leads[\"Last Notable Activity\"].isin(series[mask].index),'Others',leads[\"Last Notable Activity\"])\n",
    "leads[\"Last Notable Activity\"].value_counts()"
   ]
  },
  {
   "cell_type": "code",
   "execution_count": 1710,
   "id": "1080d07d",
   "metadata": {},
   "outputs": [],
   "source": [
    "# Renaming the \"A free copy of Mastering The Interview\" column\n",
    "leads.rename(columns = {\"A free copy of Mastering The Interview\": \"Free_Copy\"}, inplace = True)"
   ]
  },
  {
   "cell_type": "markdown",
   "id": "846126a4",
   "metadata": {},
   "source": [
    "### Converting boolean columns into numeric columns i.e. in 0,1 form"
   ]
  },
  {
   "cell_type": "code",
   "execution_count": 1711,
   "id": "8909217b",
   "metadata": {},
   "outputs": [],
   "source": [
    "col_bool = ['Do Not Email',\"Free_Copy\"]\n",
    "def binary_map(x):\n",
    "    return x.map({'Yes': 1, \"No\": 0})\n",
    "leads[col_bool] = leads[col_bool].apply(binary_map)"
   ]
  },
  {
   "cell_type": "markdown",
   "id": "739e605d",
   "metadata": {},
   "source": [
    "### Dummy variable creation for categorical variables"
   ]
  },
  {
   "cell_type": "code",
   "execution_count": 1712,
   "id": "0eb91f55",
   "metadata": {},
   "outputs": [],
   "source": [
    "col_cat = [\"Lead Origin\", 'Lead Source',\"Last Activity\", \"Specialization\", \"Occupation\", \"Lead Quality\",\"Asymmetrique Activity Index\", \"Asymmetrique Profile Index\", \"Last Notable Activity\"]\n",
    "dummy_var = pd.get_dummies(leads[col_cat], drop_first= True)\n",
    "leads = pd.concat([leads, dummy_var], axis = 1)\n",
    "leads = leads.drop(col_cat, axis = 1)"
   ]
  },
  {
   "cell_type": "markdown",
   "id": "80ed5409",
   "metadata": {},
   "source": [
    "### Outlier Analysis"
   ]
  },
  {
   "cell_type": "code",
   "execution_count": 1713,
   "id": "a19417c7",
   "metadata": {},
   "outputs": [
    {
     "data": {
      "text/plain": [
       "<AxesSubplot:>"
      ]
     },
     "execution_count": 1713,
     "metadata": {},
     "output_type": "execute_result"
    },
    {
     "data": {
      "image/png": "[encoded data removed]",
      "text/plain": [
       "<Figure size 432x288 with 1 Axes>"
      ]
     },
     "metadata": {
      "needs_background": "light"
     },
     "output_type": "display_data"
    }
   ],
   "source": [
    "# \"TotalVisits\" column\n",
    "sns.boxplot(data = leads[\"TotalVisits\"])\n",
    "# TotalVisits greater than 40 are outliers and can be removed from the dataset"
   ]
  },
  {
   "cell_type": "code",
   "execution_count": 1714,
   "id": "90869f56",
   "metadata": {},
   "outputs": [],
   "source": [
    "# Removing records with column \"TotalVisits\" being greater than 40\n",
    "leads = leads[leads[\"TotalVisits\"] <= 40]"
   ]
  },
  {
   "cell_type": "code",
   "execution_count": 1715,
   "id": "9b92e18a",
   "metadata": {},
   "outputs": [
    {
     "data": {
      "text/plain": [
       "<AxesSubplot:xlabel='TotalVisits'>"
      ]
     },
     "execution_count": 1715,
     "metadata": {},
     "output_type": "execute_result"
    },
    {
     "data": {
      "image/png": "[encoded data removed]",
      "text/plain": [
       "<Figure size 432x288 with 1 Axes>"
      ]
     },
     "metadata": {
      "needs_background": "light"
     },
     "output_type": "display_data"
    }
   ],
   "source": [
    "# Plotting boxplot of \"TotalVisits\" column after removing the outliers\n",
    "sns.boxplot(leads[\"TotalVisits\"])"
   ]
  },
  {
   "cell_type": "code",
   "execution_count": 1716,
   "id": "8a8790f8",
   "metadata": {},
   "outputs": [
    {
     "data": {
      "text/plain": [
       "<AxesSubplot:xlabel='Total Time Spent on Website'>"
      ]
     },
     "execution_count": 1716,
     "metadata": {},
     "output_type": "execute_result"
    },
    {
     "data": {
      "image/png": "[encoded data removed]",
      "text/plain": [
       "<Figure size 432x288 with 1 Axes>"
      ]
     },
     "metadata": {
      "needs_background": "light"
     },
     "output_type": "display_data"
    }
   ],
   "source": [
    "# Total Time Spent on Website column\n",
    "sns.boxplot(leads[\"Total Time Spent on Website\"])"
   ]
  },
  {
   "cell_type": "code",
   "execution_count": 1717,
   "id": "5298cb65",
   "metadata": {},
   "outputs": [
    {
     "data": {
      "text/plain": [
       "<AxesSubplot:xlabel='Page Views Per Visit'>"
      ]
     },
     "execution_count": 1717,
     "metadata": {},
     "output_type": "execute_result"
    },
    {
     "data": {
      "image/png": "[encoded data removed]",
      "text/plain": [
       "<Figure size 432x288 with 1 Axes>"
      ]
     },
     "metadata": {
      "needs_background": "light"
     },
     "output_type": "display_data"
    }
   ],
   "source": [
    "# \"Page Views Per Visit\" column\n",
    "sns.boxplot(leads[\"Page Views Per Visit\"])\n",
    "# There is one outlier with value greater than 20"
   ]
  },
  {
   "cell_type": "code",
   "execution_count": 1718,
   "id": "d9d74c38",
   "metadata": {},
   "outputs": [],
   "source": [
    "# Removing the outlier\n",
    "leads = leads[leads[\"Page Views Per Visit\"] < 20]"
   ]
  },
  {
   "cell_type": "code",
   "execution_count": 1719,
   "id": "fa6843d4",
   "metadata": {},
   "outputs": [
    {
     "data": {
      "text/plain": [
       "<AxesSubplot:xlabel='Page Views Per Visit'>"
      ]
     },
     "execution_count": 1719,
     "metadata": {},
     "output_type": "execute_result"
    },
    {
     "data": {
      "image/png": "[encoded data removed]",
      "text/plain": [
       "<Figure size 432x288 with 1 Axes>"
      ]
     },
     "metadata": {
      "needs_background": "light"
     },
     "output_type": "display_data"
    }
   ],
   "source": [
    "# Plotting the boxplot after removing the outlier\n",
    "sns.boxplot(leads[\"Page Views Per Visit\"])"
   ]
  },
  {
   "cell_type": "markdown",
   "id": "b607e77e",
   "metadata": {},
   "source": [
    "### Train-test split of data"
   ]
  },
  {
   "cell_type": "code",
   "execution_count": 1720,
   "id": "5d4e7d87",
   "metadata": {},
   "outputs": [],
   "source": [
    "# Putting feature variable to X\n",
    "X = leads.drop(['Converted'], axis=1)\n",
    "# Putting response variable to y\n",
    "y = leads[\"Converted\"]"
   ]
  },
  {
   "cell_type": "code",
   "execution_count": 1721,
   "id": "5a87162d",
   "metadata": {},
   "outputs": [],
   "source": [
    "# Splitting the data into train and test\n",
    "X_train, X_test, y_train, y_test = train_test_split(X, y, train_size=0.7, test_size=0.3, random_state=100)"
   ]
  },
  {
   "cell_type": "markdown",
   "id": "3a509767",
   "metadata": {},
   "source": [
    "### Feature Scaling on train data"
   ]
  },
  {
   "cell_type": "code",
   "execution_count": 1722,
   "id": "5535ecc5",
   "metadata": {},
   "outputs": [
    {
     "data": {
      "text/html": [
       "<div>\n",
       "<style scoped>\n",
       "    .dataframe tbody tr th:only-of-type {\n",
       "        vertical-align: middle;\n",
       "    }\n",
       "\n",
       "    .dataframe tbody tr th {\n",
       "        vertical-align: top;\n",
       "    }\n",
       "\n",
       "    .dataframe thead th {\n",
       "        text-align: right;\n",
       "    }\n",
       "</style>\n",
       "<table border=\"1\" class=\"dataframe\">\n",
       "  <thead>\n",
       "    <tr style=\"text-align: right;\">\n",
       "      <th></th>\n",
       "      <th>TotalVisits</th>\n",
       "      <th>Total Time Spent on Website</th>\n",
       "      <th>Page Views Per Visit</th>\n",
       "    </tr>\n",
       "  </thead>\n",
       "  <tbody>\n",
       "    <tr>\n",
       "      <th>count</th>\n",
       "      <td>6.344000e+03</td>\n",
       "      <td>6.344000e+03</td>\n",
       "      <td>6.344000e+03</td>\n",
       "    </tr>\n",
       "    <tr>\n",
       "      <th>mean</th>\n",
       "      <td>1.525682e-16</td>\n",
       "      <td>-3.081814e-17</td>\n",
       "      <td>-9.562198e-17</td>\n",
       "    </tr>\n",
       "    <tr>\n",
       "      <th>std</th>\n",
       "      <td>1.000079e+00</td>\n",
       "      <td>1.000079e+00</td>\n",
       "      <td>1.000079e+00</td>\n",
       "    </tr>\n",
       "    <tr>\n",
       "      <th>min</th>\n",
       "      <td>-9.810963e-01</td>\n",
       "      <td>-8.777663e-01</td>\n",
       "      <td>-1.134477e+00</td>\n",
       "    </tr>\n",
       "    <tr>\n",
       "      <th>25%</th>\n",
       "      <td>-6.888450e-01</td>\n",
       "      <td>-8.634330e-01</td>\n",
       "      <td>-6.526249e-01</td>\n",
       "    </tr>\n",
       "    <tr>\n",
       "      <th>50%</th>\n",
       "      <td>-1.043425e-01</td>\n",
       "      <td>-4.338955e-01</td>\n",
       "      <td>-1.707733e-01</td>\n",
       "    </tr>\n",
       "    <tr>\n",
       "      <th>75%</th>\n",
       "      <td>4.801600e-01</td>\n",
       "      <td>7.761147e-01</td>\n",
       "      <td>3.110784e-01</td>\n",
       "    </tr>\n",
       "    <tr>\n",
       "      <th>max</th>\n",
       "      <td>8.370944e+00</td>\n",
       "      <td>3.324210e+00</td>\n",
       "      <td>6.575150e+00</td>\n",
       "    </tr>\n",
       "  </tbody>\n",
       "</table>\n",
       "</div>"
      ],
      "text/plain": [
       "        TotalVisits  Total Time Spent on Website  Page Views Per Visit\n",
       "count  6.344000e+03                 6.344000e+03          6.344000e+03\n",
       "mean   1.525682e-16                -3.081814e-17         -9.562198e-17\n",
       "std    1.000079e+00                 1.000079e+00          1.000079e+00\n",
       "min   -9.810963e-01                -8.777663e-01         -1.134477e+00\n",
       "25%   -6.888450e-01                -8.634330e-01         -6.526249e-01\n",
       "50%   -1.043425e-01                -4.338955e-01         -1.707733e-01\n",
       "75%    4.801600e-01                 7.761147e-01          3.110784e-01\n",
       "max    8.370944e+00                 3.324210e+00          6.575150e+00"
      ]
     },
     "execution_count": 1722,
     "metadata": {},
     "output_type": "execute_result"
    }
   ],
   "source": [
    "scaler = StandardScaler()\n",
    "col_scale = ['TotalVisits','Total Time Spent on Website','Page Views Per Visit']\n",
    "X_train[col_scale] = scaler.fit_transform(X_train[col_scale])\n",
    "X_train[col_scale].describe()"
   ]
  },
  {
   "cell_type": "markdown",
   "id": "d74b63c7",
   "metadata": {},
   "source": [
    "## Model Building"
   ]
  },
  {
   "cell_type": "markdown",
   "id": "78ecc5a1",
   "metadata": {},
   "source": [
    "####  Creating a function which will take the columns (dependent variables) as input and will provide the model as output\n"
   ]
  },
  {
   "cell_type": "code",
   "execution_count": 1723,
   "id": "5007f416",
   "metadata": {},
   "outputs": [],
   "source": [
    "def log_model(col):\n",
    "    X_train_sm = sm.add_constant(X_train[col])\n",
    "    logm = sm.GLM(y_train,X_train_sm, family = sm.families.Binomial())\n",
    "    res = logm.fit()\n",
    "    return res"
   ]
  },
  {
   "cell_type": "markdown",
   "id": "a2fa4345",
   "metadata": {},
   "source": [
    "####  Creating a function that will plot lead conversion rate, sensitivity and accuracy of our model\n"
   ]
  },
  {
   "cell_type": "code",
   "execution_count": 1724,
   "id": "9addeac9",
   "metadata": {},
   "outputs": [],
   "source": [
    "def plot_curve(res, col):\n",
    "    # Calculating probabilities of target variable as predicted by model\n",
    "    X_train_sm = sm.add_constant(X_train[col])\n",
    "    y_train_pred = res.predict(X_train_sm).values.reshape(-1) \n",
    "    \n",
    "    #Creating a dataframe with the actual converted flag and the predicted probabilities\n",
    "    y_train_pred_final = pd.DataFrame({'Converted':y_train.values, 'Converted_Prob':y_train_pred})\n",
    "    \n",
    "    #Creating a dataframe with probability plot lead conversion rate, sensitivity and accuracy\n",
    "    cutoff_df = pd.DataFrame( columns = ['prob','accuracy','sensi','lead_conv_rate'])\n",
    "    \n",
    "    # Let's create columns with different probability cutoffs\n",
    "    # Also let's calculate lead conversion rate, sensitivity and accuracy for various probability cutoffs.\n",
    "    numbers = [float(x)/10 for x in range(10)]\n",
    "    for i in numbers:\n",
    "        y_train_pred_final[i]= y_train_pred_final.Converted_Prob.map(lambda x: 1 if x > i else 0)\n",
    "        cm1 = metrics.confusion_matrix(y_train_pred_final.Converted, y_train_pred_final[i] )\n",
    "        total1=sum(sum(cm1))\n",
    "        accuracy = (cm1[0,0]+cm1[1,1])/total1\n",
    "        lead_conv_rate = cm1[1,1]/(cm1[0,1]+cm1[1,1])\n",
    "        sensi = cm1[1,1]/(cm1[1,0]+cm1[1,1])\n",
    "        cutoff_df.loc[i] =[ i ,accuracy,sensi,lead_conv_rate]\n",
    "        # Let's plot accuracy sensitivity and lead conversion rate for various probabilities.\n",
    "    cutoff_df.plot.line(x='prob', y=['accuracy','sensi','lead_conv_rate'])\n",
    "    return y_train_pred_final, cutoff_df\n",
    "    plt.show()"
   ]
  },
  {
   "cell_type": "markdown",
   "id": "39d21751",
   "metadata": {},
   "source": [
    "####  Creating a function to create ROC curve to check for model efficiency\n"
   ]
  },
  {
   "cell_type": "code",
   "execution_count": 1725,
   "id": "a8a586f9",
   "metadata": {},
   "outputs": [],
   "source": [
    "def draw_roc( y_train_pred_final ):\n",
    "    fpr, tpr, thresholds = metrics.roc_curve( y_train_pred_final[\"Converted\"], y_train_pred_final[\"Converted_Prob\"],\n",
    "                                              drop_intermediate = False )\n",
    "    auc_score = metrics.roc_auc_score( y_train_pred_final[\"Converted\"], y_train_pred_final[\"Converted_Prob\"] )\n",
    "    plt.figure(figsize=(5, 5))\n",
    "    plt.plot( fpr, tpr, label='ROC curve (area = %0.2f)' % auc_score )\n",
    "    plt.plot([0, 1], [0, 1], 'k--')\n",
    "    plt.xlim([0.0, 1.0])\n",
    "    plt.ylim([0.0, 1.05])\n",
    "    plt.xlabel('False Positive Rate or [1 - True Negative Rate]')\n",
    "    plt.ylabel('True Positive Rate')\n",
    "    plt.title('Receiver operating characteristic example')\n",
    "    plt.legend(loc=\"lower right\")\n",
    "    plt.show()\n",
    "\n",
    "    return None"
   ]
  },
  {
   "cell_type": "markdown",
   "id": "ef2ae6ad",
   "metadata": {},
   "source": [
    "####  Defining function to select columns using RFE\n"
   ]
  },
  {
   "cell_type": "code",
   "execution_count": 1726,
   "id": "499e1b97",
   "metadata": {},
   "outputs": [],
   "source": [
    "def log_rfe(n): # n is the number of columns on which rfe is to be run\n",
    "    logreg = LogisticRegression()\n",
    "    rfe = RFE(logreg, n_features_to_select= n)  \n",
    "    rfe = rfe.fit(X_train, y_train)\n",
    "    col_RFE = X_train.columns[rfe.support_]\n",
    "    return col_RFE"
   ]
  },
  {
   "cell_type": "code",
   "execution_count": 1778,
   "id": "2a45a139",
   "metadata": {},
   "outputs": [
    {
     "data": {
      "text/plain": [
       "Index(['Lead Origin_Others', 'Occupation_Working Professional',\n",
       "       'Lead Quality_High in Relevance', 'Lead Quality_Low in Relevance',\n",
       "       'Lead Quality_Might be', 'Lead Quality_Worst',\n",
       "       'Asymmetrique Activity Index_03.Low', 'Last Notable Activity_SMS Sent'],\n",
       "      dtype='object')"
      ]
     },
     "execution_count": 1778,
     "metadata": {},
     "output_type": "execute_result"
    }
   ],
   "source": [
    "log_rfe(8)"
   ]
  },
  {
   "cell_type": "markdown",
   "id": "7d52c89a",
   "metadata": {},
   "source": [
    "### Creating model with all the columns"
   ]
  },
  {
   "cell_type": "code",
   "execution_count": 1727,
   "id": "a8aa5892",
   "metadata": {},
   "outputs": [
    {
     "data": {
      "text/html": [
       "<table class=\"simpletable\">\n",
       "<caption>Generalized Linear Model Regression Results</caption>\n",
       "<tr>\n",
       "  <th>Dep. Variable:</th>       <td>Converted</td>    <th>  No. Observations:  </th>  <td>  6344</td> \n",
       "</tr>\n",
       "<tr>\n",
       "  <th>Model:</th>                  <td>GLM</td>       <th>  Df Residuals:      </th>  <td>  6303</td> \n",
       "</tr>\n",
       "<tr>\n",
       "  <th>Model Family:</th>        <td>Binomial</td>     <th>  Df Model:          </th>  <td>    40</td> \n",
       "</tr>\n",
       "<tr>\n",
       "  <th>Link Function:</th>         <td>Logit</td>      <th>  Scale:             </th> <td>  1.0000</td>\n",
       "</tr>\n",
       "<tr>\n",
       "  <th>Method:</th>                <td>IRLS</td>       <th>  Log-Likelihood:    </th> <td> -2137.6</td>\n",
       "</tr>\n",
       "<tr>\n",
       "  <th>Date:</th>            <td>Tue, 22 Nov 2022</td> <th>  Deviance:          </th> <td>  4275.3</td>\n",
       "</tr>\n",
       "<tr>\n",
       "  <th>Time:</th>                <td>20:36:07</td>     <th>  Pearson chi2:      </th> <td>6.78e+03</td>\n",
       "</tr>\n",
       "<tr>\n",
       "  <th>No. Iterations:</th>          <td>7</td>        <th>  Pseudo R-squ. (CS):</th>  <td>0.4788</td> \n",
       "</tr>\n",
       "<tr>\n",
       "  <th>Covariance Type:</th>     <td>nonrobust</td>    <th>                     </th>     <td> </td>   \n",
       "</tr>\n",
       "</table>\n",
       "<table class=\"simpletable\">\n",
       "<tr>\n",
       "                         <td></td>                           <th>coef</th>     <th>std err</th>      <th>z</th>      <th>P>|z|</th>  <th>[0.025</th>    <th>0.975]</th>  \n",
       "</tr>\n",
       "<tr>\n",
       "  <th>const</th>                                          <td>   -2.1181</td> <td>    0.356</td> <td>   -5.952</td> <td> 0.000</td> <td>   -2.816</td> <td>   -1.421</td>\n",
       "</tr>\n",
       "<tr>\n",
       "  <th>Do Not Email</th>                                   <td>   -1.0465</td> <td>    0.229</td> <td>   -4.563</td> <td> 0.000</td> <td>   -1.496</td> <td>   -0.597</td>\n",
       "</tr>\n",
       "<tr>\n",
       "  <th>TotalVisits</th>                                    <td>    0.2133</td> <td>    0.055</td> <td>    3.907</td> <td> 0.000</td> <td>    0.106</td> <td>    0.320</td>\n",
       "</tr>\n",
       "<tr>\n",
       "  <th>Total Time Spent on Website</th>                    <td>    1.0327</td> <td>    0.046</td> <td>   22.628</td> <td> 0.000</td> <td>    0.943</td> <td>    1.122</td>\n",
       "</tr>\n",
       "<tr>\n",
       "  <th>Page Views Per Visit</th>                           <td>   -0.2404</td> <td>    0.062</td> <td>   -3.865</td> <td> 0.000</td> <td>   -0.362</td> <td>   -0.118</td>\n",
       "</tr>\n",
       "<tr>\n",
       "  <th>Free_Copy</th>                                      <td>   -0.0528</td> <td>    0.126</td> <td>   -0.418</td> <td> 0.676</td> <td>   -0.300</td> <td>    0.195</td>\n",
       "</tr>\n",
       "<tr>\n",
       "  <th>Lead Origin_Landing Page Submission</th>            <td>   -0.5020</td> <td>    0.167</td> <td>   -3.012</td> <td> 0.003</td> <td>   -0.829</td> <td>   -0.175</td>\n",
       "</tr>\n",
       "<tr>\n",
       "  <th>Lead Origin_Others</th>                             <td>    2.8597</td> <td>    0.414</td> <td>    6.902</td> <td> 0.000</td> <td>    2.048</td> <td>    3.672</td>\n",
       "</tr>\n",
       "<tr>\n",
       "  <th>Lead Source_Google</th>                             <td>    0.2800</td> <td>    0.132</td> <td>    2.121</td> <td> 0.034</td> <td>    0.021</td> <td>    0.539</td>\n",
       "</tr>\n",
       "<tr>\n",
       "  <th>Lead Source_Olark Chat</th>                         <td>    1.1556</td> <td>    0.184</td> <td>    6.295</td> <td> 0.000</td> <td>    0.796</td> <td>    1.515</td>\n",
       "</tr>\n",
       "<tr>\n",
       "  <th>Lead Source_Organic Search</th>                     <td>    0.0937</td> <td>    0.150</td> <td>    0.625</td> <td> 0.532</td> <td>   -0.200</td> <td>    0.387</td>\n",
       "</tr>\n",
       "<tr>\n",
       "  <th>Lead Source_Other</th>                              <td>   -0.1326</td> <td>    0.367</td> <td>   -0.361</td> <td> 0.718</td> <td>   -0.852</td> <td>    0.587</td>\n",
       "</tr>\n",
       "<tr>\n",
       "  <th>Last Activity_Email Bounced</th>                    <td>    0.2710</td> <td>    0.482</td> <td>    0.562</td> <td> 0.574</td> <td>   -0.674</td> <td>    1.216</td>\n",
       "</tr>\n",
       "<tr>\n",
       "  <th>Last Activity_Email Link Clicked</th>               <td>    0.1429</td> <td>    0.364</td> <td>    0.393</td> <td> 0.695</td> <td>   -0.570</td> <td>    0.856</td>\n",
       "</tr>\n",
       "<tr>\n",
       "  <th>Last Activity_Email Opened</th>                     <td>    0.7790</td> <td>    0.268</td> <td>    2.904</td> <td> 0.004</td> <td>    0.253</td> <td>    1.305</td>\n",
       "</tr>\n",
       "<tr>\n",
       "  <th>Last Activity_Form Submitted on Website</th>        <td>    0.8559</td> <td>    0.421</td> <td>    2.035</td> <td> 0.042</td> <td>    0.032</td> <td>    1.680</td>\n",
       "</tr>\n",
       "<tr>\n",
       "  <th>Last Activity_Olark Chat Conversation</th>          <td>   -0.5866</td> <td>    0.288</td> <td>   -2.038</td> <td> 0.042</td> <td>   -1.151</td> <td>   -0.022</td>\n",
       "</tr>\n",
       "<tr>\n",
       "  <th>Last Activity_Other</th>                            <td>    0.9694</td> <td>    0.365</td> <td>    2.655</td> <td> 0.008</td> <td>    0.254</td> <td>    1.685</td>\n",
       "</tr>\n",
       "<tr>\n",
       "  <th>Last Activity_Page Visited on Website</th>          <td>    0.0895</td> <td>    0.308</td> <td>    0.291</td> <td> 0.771</td> <td>   -0.514</td> <td>    0.693</td>\n",
       "</tr>\n",
       "<tr>\n",
       "  <th>Last Activity_SMS Sent</th>                         <td>    1.3983</td> <td>    0.268</td> <td>    5.223</td> <td> 0.000</td> <td>    0.874</td> <td>    1.923</td>\n",
       "</tr>\n",
       "<tr>\n",
       "  <th>Specialization_Finance Management</th>              <td>    0.1844</td> <td>    0.192</td> <td>    0.961</td> <td> 0.336</td> <td>   -0.192</td> <td>    0.561</td>\n",
       "</tr>\n",
       "<tr>\n",
       "  <th>Specialization_Human Resource Management</th>       <td>    0.1578</td> <td>    0.193</td> <td>    0.816</td> <td> 0.415</td> <td>   -0.221</td> <td>    0.537</td>\n",
       "</tr>\n",
       "<tr>\n",
       "  <th>Specialization_Marketing Management</th>            <td>    0.3253</td> <td>    0.193</td> <td>    1.688</td> <td> 0.091</td> <td>   -0.052</td> <td>    0.703</td>\n",
       "</tr>\n",
       "<tr>\n",
       "  <th>Specialization_Operations Management</th>           <td>    0.3115</td> <td>    0.221</td> <td>    1.411</td> <td> 0.158</td> <td>   -0.121</td> <td>    0.744</td>\n",
       "</tr>\n",
       "<tr>\n",
       "  <th>Specialization_Other</th>                           <td>    0.1802</td> <td>    0.165</td> <td>    1.095</td> <td> 0.274</td> <td>   -0.143</td> <td>    0.503</td>\n",
       "</tr>\n",
       "<tr>\n",
       "  <th>Occupation_Student/Others</th>                      <td>    1.1141</td> <td>    0.301</td> <td>    3.697</td> <td> 0.000</td> <td>    0.523</td> <td>    1.705</td>\n",
       "</tr>\n",
       "<tr>\n",
       "  <th>Occupation_Unemployed</th>                          <td>    0.8363</td> <td>    0.109</td> <td>    7.706</td> <td> 0.000</td> <td>    0.624</td> <td>    1.049</td>\n",
       "</tr>\n",
       "<tr>\n",
       "  <th>Occupation_Working Professional</th>                <td>    2.5310</td> <td>    0.239</td> <td>   10.577</td> <td> 0.000</td> <td>    2.062</td> <td>    3.000</td>\n",
       "</tr>\n",
       "<tr>\n",
       "  <th>Lead Quality_High in Relevance</th>                 <td>    3.0568</td> <td>    0.232</td> <td>   13.154</td> <td> 0.000</td> <td>    2.601</td> <td>    3.512</td>\n",
       "</tr>\n",
       "<tr>\n",
       "  <th>Lead Quality_Low in Relevance</th>                  <td>    2.1485</td> <td>    0.179</td> <td>   11.975</td> <td> 0.000</td> <td>    1.797</td> <td>    2.500</td>\n",
       "</tr>\n",
       "<tr>\n",
       "  <th>Lead Quality_Might be</th>                          <td>    1.2861</td> <td>    0.123</td> <td>   10.473</td> <td> 0.000</td> <td>    1.045</td> <td>    1.527</td>\n",
       "</tr>\n",
       "<tr>\n",
       "  <th>Lead Quality_Not Sure</th>                          <td>   -0.5793</td> <td>    0.133</td> <td>   -4.351</td> <td> 0.000</td> <td>   -0.840</td> <td>   -0.318</td>\n",
       "</tr>\n",
       "<tr>\n",
       "  <th>Lead Quality_Worst</th>                             <td>   -2.5530</td> <td>    0.387</td> <td>   -6.605</td> <td> 0.000</td> <td>   -3.311</td> <td>   -1.795</td>\n",
       "</tr>\n",
       "<tr>\n",
       "  <th>Asymmetrique Activity Index_02.Medium</th>          <td>   -0.7067</td> <td>    0.159</td> <td>   -4.443</td> <td> 0.000</td> <td>   -1.018</td> <td>   -0.395</td>\n",
       "</tr>\n",
       "<tr>\n",
       "  <th>Asymmetrique Activity Index_03.Low</th>             <td>   -2.5225</td> <td>    0.313</td> <td>   -8.064</td> <td> 0.000</td> <td>   -3.136</td> <td>   -1.909</td>\n",
       "</tr>\n",
       "<tr>\n",
       "  <th>Asymmetrique Activity Index_Data Not Available</th> <td>   -0.4534</td> <td>    0.091</td> <td>   -5.004</td> <td> 0.000</td> <td>   -0.631</td> <td>   -0.276</td>\n",
       "</tr>\n",
       "<tr>\n",
       "  <th>Asymmetrique Profile Index_02.Medium</th>           <td>   -0.1888</td> <td>    0.131</td> <td>   -1.437</td> <td> 0.151</td> <td>   -0.446</td> <td>    0.069</td>\n",
       "</tr>\n",
       "<tr>\n",
       "  <th>Asymmetrique Profile Index_03.Low</th>              <td>   -0.7082</td> <td>    0.579</td> <td>   -1.222</td> <td> 0.222</td> <td>   -1.844</td> <td>    0.427</td>\n",
       "</tr>\n",
       "<tr>\n",
       "  <th>Asymmetrique Profile Index_Data Not Available</th>  <td>   -0.4534</td> <td>    0.091</td> <td>   -5.004</td> <td> 0.000</td> <td>   -0.631</td> <td>   -0.276</td>\n",
       "</tr>\n",
       "<tr>\n",
       "  <th>Last Notable Activity_Modified</th>                 <td>   -0.2416</td> <td>    0.165</td> <td>   -1.468</td> <td> 0.142</td> <td>   -0.564</td> <td>    0.081</td>\n",
       "</tr>\n",
       "<tr>\n",
       "  <th>Last Notable Activity_Others</th>                   <td>    0.3726</td> <td>    0.263</td> <td>    1.415</td> <td> 0.157</td> <td>   -0.144</td> <td>    0.889</td>\n",
       "</tr>\n",
       "<tr>\n",
       "  <th>Last Notable Activity_SMS Sent</th>                 <td>    0.8849</td> <td>    0.231</td> <td>    3.825</td> <td> 0.000</td> <td>    0.432</td> <td>    1.338</td>\n",
       "</tr>\n",
       "</table>"
      ],
      "text/plain": [
       "<class 'statsmodels.iolib.summary.Summary'>\n",
       "\"\"\"\n",
       "                 Generalized Linear Model Regression Results                  \n",
       "==============================================================================\n",
       "Dep. Variable:              Converted   No. Observations:                 6344\n",
       "Model:                            GLM   Df Residuals:                     6303\n",
       "Model Family:                Binomial   Df Model:                           40\n",
       "Link Function:                  Logit   Scale:                          1.0000\n",
       "Method:                          IRLS   Log-Likelihood:                -2137.6\n",
       "Date:                Tue, 22 Nov 2022   Deviance:                       4275.3\n",
       "Time:                        20:36:07   Pearson chi2:                 6.78e+03\n",
       "No. Iterations:                     7   Pseudo R-squ. (CS):             0.4788\n",
       "Covariance Type:            nonrobust                                         \n",
       "==================================================================================================================\n",
       "                                                     coef    std err          z      P>|z|      [0.025      0.975]\n",
       "------------------------------------------------------------------------------------------------------------------\n",
       "const                                             -2.1181      0.356     -5.952      0.000      -2.816      -1.421\n",
       "Do Not Email                                      -1.0465      0.229     -4.563      0.000      -1.496      -0.597\n",
       "TotalVisits                                        0.2133      0.055      3.907      0.000       0.106       0.320\n",
       "Total Time Spent on Website                        1.0327      0.046     22.628      0.000       0.943       1.122\n",
       "Page Views Per Visit                              -0.2404      0.062     -3.865      0.000      -0.362      -0.118\n",
       "Free_Copy                                         -0.0528      0.126     -0.418      0.676      -0.300       0.195\n",
       "Lead Origin_Landing Page Submission               -0.5020      0.167     -3.012      0.003      -0.829      -0.175\n",
       "Lead Origin_Others                                 2.8597      0.414      6.902      0.000       2.048       3.672\n",
       "Lead Source_Google                                 0.2800      0.132      2.121      0.034       0.021       0.539\n",
       "Lead Source_Olark Chat                             1.1556      0.184      6.295      0.000       0.796       1.515\n",
       "Lead Source_Organic Search                         0.0937      0.150      0.625      0.532      -0.200       0.387\n",
       "Lead Source_Other                                 -0.1326      0.367     -0.361      0.718      -0.852       0.587\n",
       "Last Activity_Email Bounced                        0.2710      0.482      0.562      0.574      -0.674       1.216\n",
       "Last Activity_Email Link Clicked                   0.1429      0.364      0.393      0.695      -0.570       0.856\n",
       "Last Activity_Email Opened                         0.7790      0.268      2.904      0.004       0.253       1.305\n",
       "Last Activity_Form Submitted on Website            0.8559      0.421      2.035      0.042       0.032       1.680\n",
       "Last Activity_Olark Chat Conversation             -0.5866      0.288     -2.038      0.042      -1.151      -0.022\n",
       "Last Activity_Other                                0.9694      0.365      2.655      0.008       0.254       1.685\n",
       "Last Activity_Page Visited on Website              0.0895      0.308      0.291      0.771      -0.514       0.693\n",
       "Last Activity_SMS Sent                             1.3983      0.268      5.223      0.000       0.874       1.923\n",
       "Specialization_Finance Management                  0.1844      0.192      0.961      0.336      -0.192       0.561\n",
       "Specialization_Human Resource Management           0.1578      0.193      0.816      0.415      -0.221       0.537\n",
       "Specialization_Marketing Management                0.3253      0.193      1.688      0.091      -0.052       0.703\n",
       "Specialization_Operations Management               0.3115      0.221      1.411      0.158      -0.121       0.744\n",
       "Specialization_Other                               0.1802      0.165      1.095      0.274      -0.143       0.503\n",
       "Occupation_Student/Others                          1.1141      0.301      3.697      0.000       0.523       1.705\n",
       "Occupation_Unemployed                              0.8363      0.109      7.706      0.000       0.624       1.049\n",
       "Occupation_Working Professional                    2.5310      0.239     10.577      0.000       2.062       3.000\n",
       "Lead Quality_High in Relevance                     3.0568      0.232     13.154      0.000       2.601       3.512\n",
       "Lead Quality_Low in Relevance                      2.1485      0.179     11.975      0.000       1.797       2.500\n",
       "Lead Quality_Might be                              1.2861      0.123     10.473      0.000       1.045       1.527\n",
       "Lead Quality_Not Sure                             -0.5793      0.133     -4.351      0.000      -0.840      -0.318\n",
       "Lead Quality_Worst                                -2.5530      0.387     -6.605      0.000      -3.311      -1.795\n",
       "Asymmetrique Activity Index_02.Medium             -0.7067      0.159     -4.443      0.000      -1.018      -0.395\n",
       "Asymmetrique Activity Index_03.Low                -2.5225      0.313     -8.064      0.000      -3.136      -1.909\n",
       "Asymmetrique Activity Index_Data Not Available    -0.4534      0.091     -5.004      0.000      -0.631      -0.276\n",
       "Asymmetrique Profile Index_02.Medium              -0.1888      0.131     -1.437      0.151      -0.446       0.069\n",
       "Asymmetrique Profile Index_03.Low                 -0.7082      0.579     -1.222      0.222      -1.844       0.427\n",
       "Asymmetrique Profile Index_Data Not Available     -0.4534      0.091     -5.004      0.000      -0.631      -0.276\n",
       "Last Notable Activity_Modified                    -0.2416      0.165     -1.468      0.142      -0.564       0.081\n",
       "Last Notable Activity_Others                       0.3726      0.263      1.415      0.157      -0.144       0.889\n",
       "Last Notable Activity_SMS Sent                     0.8849      0.231      3.825      0.000       0.432       1.338\n",
       "==================================================================================================================\n",
       "\"\"\""
      ]
     },
     "execution_count": 1727,
     "metadata": {},
     "output_type": "execute_result"
    }
   ],
   "source": [
    "res = log_model(X_train.columns) # Passing all columns to the function\n",
    "res.summary()"
   ]
  },
  {
   "cell_type": "code",
   "execution_count": 1728,
   "id": "1b798045",
   "metadata": {},
   "outputs": [
    {
     "data": {
      "image/png": "[encoded data removed]",
      "text/plain": [
       "<Figure size 432x288 with 1 Axes>"
      ]
     },
     "metadata": {
      "needs_background": "light"
     },
     "output_type": "display_data"
    }
   ],
   "source": [
    "# Plotting accuracy, sensitivity and lead conversion rate when all columns are included\n",
    "y_train_pred_final, cutoff_df = plot_curve(res, X_train.columns)\n"
   ]
  },
  {
   "cell_type": "code",
   "execution_count": 1729,
   "id": "2bf945fa",
   "metadata": {},
   "outputs": [
    {
     "data": {
      "text/html": [
       "<div>\n",
       "<style scoped>\n",
       "    .dataframe tbody tr th:only-of-type {\n",
       "        vertical-align: middle;\n",
       "    }\n",
       "\n",
       "    .dataframe tbody tr th {\n",
       "        vertical-align: top;\n",
       "    }\n",
       "\n",
       "    .dataframe thead th {\n",
       "        text-align: right;\n",
       "    }\n",
       "</style>\n",
       "<table border=\"1\" class=\"dataframe\">\n",
       "  <thead>\n",
       "    <tr style=\"text-align: right;\">\n",
       "      <th></th>\n",
       "      <th>prob</th>\n",
       "      <th>accuracy</th>\n",
       "      <th>sensi</th>\n",
       "      <th>lead_conv_rate</th>\n",
       "    </tr>\n",
       "  </thead>\n",
       "  <tbody>\n",
       "    <tr>\n",
       "      <th>0.0</th>\n",
       "      <td>0.0</td>\n",
       "      <td>0.377364</td>\n",
       "      <td>1.000000</td>\n",
       "      <td>0.377364</td>\n",
       "    </tr>\n",
       "    <tr>\n",
       "      <th>0.1</th>\n",
       "      <td>0.1</td>\n",
       "      <td>0.717371</td>\n",
       "      <td>0.967419</td>\n",
       "      <td>0.574547</td>\n",
       "    </tr>\n",
       "    <tr>\n",
       "      <th>0.2</th>\n",
       "      <td>0.2</td>\n",
       "      <td>0.812106</td>\n",
       "      <td>0.928989</td>\n",
       "      <td>0.685151</td>\n",
       "    </tr>\n",
       "    <tr>\n",
       "      <th>0.3</th>\n",
       "      <td>0.3</td>\n",
       "      <td>0.843317</td>\n",
       "      <td>0.869256</td>\n",
       "      <td>0.753440</td>\n",
       "    </tr>\n",
       "    <tr>\n",
       "      <th>0.4</th>\n",
       "      <td>0.4</td>\n",
       "      <td>0.851828</td>\n",
       "      <td>0.821637</td>\n",
       "      <td>0.793145</td>\n",
       "    </tr>\n",
       "    <tr>\n",
       "      <th>0.5</th>\n",
       "      <td>0.5</td>\n",
       "      <td>0.852617</td>\n",
       "      <td>0.769841</td>\n",
       "      <td>0.827571</td>\n",
       "    </tr>\n",
       "    <tr>\n",
       "      <th>0.6</th>\n",
       "      <td>0.6</td>\n",
       "      <td>0.848361</td>\n",
       "      <td>0.721805</td>\n",
       "      <td>0.853755</td>\n",
       "    </tr>\n",
       "    <tr>\n",
       "      <th>0.7</th>\n",
       "      <td>0.7</td>\n",
       "      <td>0.837011</td>\n",
       "      <td>0.644528</td>\n",
       "      <td>0.893975</td>\n",
       "    </tr>\n",
       "    <tr>\n",
       "      <th>0.8</th>\n",
       "      <td>0.8</td>\n",
       "      <td>0.812106</td>\n",
       "      <td>0.546366</td>\n",
       "      <td>0.925035</td>\n",
       "    </tr>\n",
       "    <tr>\n",
       "      <th>0.9</th>\n",
       "      <td>0.9</td>\n",
       "      <td>0.763398</td>\n",
       "      <td>0.394319</td>\n",
       "      <td>0.948744</td>\n",
       "    </tr>\n",
       "  </tbody>\n",
       "</table>\n",
       "</div>"
      ],
      "text/plain": [
       "     prob  accuracy     sensi  lead_conv_rate\n",
       "0.0   0.0  0.377364  1.000000        0.377364\n",
       "0.1   0.1  0.717371  0.967419        0.574547\n",
       "0.2   0.2  0.812106  0.928989        0.685151\n",
       "0.3   0.3  0.843317  0.869256        0.753440\n",
       "0.4   0.4  0.851828  0.821637        0.793145\n",
       "0.5   0.5  0.852617  0.769841        0.827571\n",
       "0.6   0.6  0.848361  0.721805        0.853755\n",
       "0.7   0.7  0.837011  0.644528        0.893975\n",
       "0.8   0.8  0.812106  0.546366        0.925035\n",
       "0.9   0.9  0.763398  0.394319        0.948744"
      ]
     },
     "execution_count": 1729,
     "metadata": {},
     "output_type": "execute_result"
    }
   ],
   "source": [
    "cutoff_df\n",
    "# Lead conversion rate is around 82% (Greater than 80%) for cut-off probability being 0.5"
   ]
  },
  {
   "cell_type": "code",
   "execution_count": 1730,
   "id": "d80aef15",
   "metadata": {},
   "outputs": [
    {
     "data": {
      "image/png": "[encoded data removed]",
      "text/plain": [
       "<Figure size 360x360 with 1 Axes>"
      ]
     },
     "metadata": {
      "needs_background": "light"
     },
     "output_type": "display_data"
    }
   ],
   "source": [
    "# Drawing ROC curve to check for model efficiency\n",
    "draw_roc(y_train_pred_final)\n",
    "# ROC curve having area of 0.93 shows that model is efficient"
   ]
  },
  {
   "cell_type": "markdown",
   "id": "1d950d92",
   "metadata": {},
   "source": [
    "### Creating model with column selection using RFE"
   ]
  },
  {
   "cell_type": "markdown",
   "id": "9030b31d",
   "metadata": {},
   "source": [
    "#### RFE value being 5"
   ]
  },
  {
   "cell_type": "code",
   "execution_count": 1731,
   "id": "37e83998",
   "metadata": {},
   "outputs": [
    {
     "data": {
      "text/html": [
       "<table class=\"simpletable\">\n",
       "<caption>Generalized Linear Model Regression Results</caption>\n",
       "<tr>\n",
       "  <th>Dep. Variable:</th>       <td>Converted</td>    <th>  No. Observations:  </th>  <td>  6344</td> \n",
       "</tr>\n",
       "<tr>\n",
       "  <th>Model:</th>                  <td>GLM</td>       <th>  Df Residuals:      </th>  <td>  6338</td> \n",
       "</tr>\n",
       "<tr>\n",
       "  <th>Model Family:</th>        <td>Binomial</td>     <th>  Df Model:          </th>  <td>     5</td> \n",
       "</tr>\n",
       "<tr>\n",
       "  <th>Link Function:</th>         <td>Logit</td>      <th>  Scale:             </th> <td>  1.0000</td>\n",
       "</tr>\n",
       "<tr>\n",
       "  <th>Method:</th>                <td>IRLS</td>       <th>  Log-Likelihood:    </th> <td> -2932.1</td>\n",
       "</tr>\n",
       "<tr>\n",
       "  <th>Date:</th>            <td>Tue, 22 Nov 2022</td> <th>  Deviance:          </th> <td>  5864.1</td>\n",
       "</tr>\n",
       "<tr>\n",
       "  <th>Time:</th>                <td>20:36:09</td>     <th>  Pearson chi2:      </th> <td>6.75e+03</td>\n",
       "</tr>\n",
       "<tr>\n",
       "  <th>No. Iterations:</th>          <td>7</td>        <th>  Pseudo R-squ. (CS):</th>  <td>0.3305</td> \n",
       "</tr>\n",
       "<tr>\n",
       "  <th>Covariance Type:</th>     <td>nonrobust</td>    <th>                     </th>     <td> </td>   \n",
       "</tr>\n",
       "</table>\n",
       "<table class=\"simpletable\">\n",
       "<tr>\n",
       "                 <td></td>                   <th>coef</th>     <th>std err</th>      <th>z</th>      <th>P>|z|</th>  <th>[0.025</th>    <th>0.975]</th>  \n",
       "</tr>\n",
       "<tr>\n",
       "  <th>const</th>                          <td>   -1.3714</td> <td>    0.039</td> <td>  -34.750</td> <td> 0.000</td> <td>   -1.449</td> <td>   -1.294</td>\n",
       "</tr>\n",
       "<tr>\n",
       "  <th>Lead Origin_Others</th>             <td>    2.3533</td> <td>    0.179</td> <td>   13.163</td> <td> 0.000</td> <td>    2.003</td> <td>    2.704</td>\n",
       "</tr>\n",
       "<tr>\n",
       "  <th>Lead Quality_High in Relevance</th> <td>    3.6983</td> <td>    0.201</td> <td>   18.359</td> <td> 0.000</td> <td>    3.303</td> <td>    4.093</td>\n",
       "</tr>\n",
       "<tr>\n",
       "  <th>Lead Quality_Low in Relevance</th>  <td>    2.6912</td> <td>    0.140</td> <td>   19.251</td> <td> 0.000</td> <td>    2.417</td> <td>    2.965</td>\n",
       "</tr>\n",
       "<tr>\n",
       "  <th>Lead Quality_Might be</th>          <td>    2.3570</td> <td>    0.083</td> <td>   28.433</td> <td> 0.000</td> <td>    2.195</td> <td>    2.520</td>\n",
       "</tr>\n",
       "<tr>\n",
       "  <th>Lead Quality_Worst</th>             <td>   -2.5964</td> <td>    0.360</td> <td>   -7.221</td> <td> 0.000</td> <td>   -3.301</td> <td>   -1.892</td>\n",
       "</tr>\n",
       "</table>"
      ],
      "text/plain": [
       "<class 'statsmodels.iolib.summary.Summary'>\n",
       "\"\"\"\n",
       "                 Generalized Linear Model Regression Results                  \n",
       "==============================================================================\n",
       "Dep. Variable:              Converted   No. Observations:                 6344\n",
       "Model:                            GLM   Df Residuals:                     6338\n",
       "Model Family:                Binomial   Df Model:                            5\n",
       "Link Function:                  Logit   Scale:                          1.0000\n",
       "Method:                          IRLS   Log-Likelihood:                -2932.1\n",
       "Date:                Tue, 22 Nov 2022   Deviance:                       5864.1\n",
       "Time:                        20:36:09   Pearson chi2:                 6.75e+03\n",
       "No. Iterations:                     7   Pseudo R-squ. (CS):             0.3305\n",
       "Covariance Type:            nonrobust                                         \n",
       "==================================================================================================\n",
       "                                     coef    std err          z      P>|z|      [0.025      0.975]\n",
       "--------------------------------------------------------------------------------------------------\n",
       "const                             -1.3714      0.039    -34.750      0.000      -1.449      -1.294\n",
       "Lead Origin_Others                 2.3533      0.179     13.163      0.000       2.003       2.704\n",
       "Lead Quality_High in Relevance     3.6983      0.201     18.359      0.000       3.303       4.093\n",
       "Lead Quality_Low in Relevance      2.6912      0.140     19.251      0.000       2.417       2.965\n",
       "Lead Quality_Might be              2.3570      0.083     28.433      0.000       2.195       2.520\n",
       "Lead Quality_Worst                -2.5964      0.360     -7.221      0.000      -3.301      -1.892\n",
       "==================================================================================================\n",
       "\"\"\""
      ]
     },
     "execution_count": 1731,
     "metadata": {},
     "output_type": "execute_result"
    }
   ],
   "source": [
    "col_RFE = log_rfe(5) # Passing number of columns equalling 5 to log_rfe function getting 5 columns\n",
    "res = log_model(col_RFE) # Passing the 5 columns received from log_rfe function to log_model funciton to get the model\n",
    "res.summary()\n",
    "# All the 5 columns including constant has P value almost equalling zero"
   ]
  },
  {
   "cell_type": "code",
   "execution_count": 1732,
   "id": "19499d69",
   "metadata": {},
   "outputs": [
    {
     "data": {
      "image/png": "[encoded data removed]",
      "text/plain": [
       "<Figure size 432x288 with 1 Axes>"
      ]
     },
     "metadata": {
      "needs_background": "light"
     },
     "output_type": "display_data"
    }
   ],
   "source": [
    "y_train_pred_final, cutoff_df = plot_curve(res, col_RFE) # Plotting the metrics "
   ]
  },
  {
   "cell_type": "code",
   "execution_count": 1733,
   "id": "d49475c7",
   "metadata": {},
   "outputs": [
    {
     "data": {
      "text/html": [
       "<div>\n",
       "<style scoped>\n",
       "    .dataframe tbody tr th:only-of-type {\n",
       "        vertical-align: middle;\n",
       "    }\n",
       "\n",
       "    .dataframe tbody tr th {\n",
       "        vertical-align: top;\n",
       "    }\n",
       "\n",
       "    .dataframe thead th {\n",
       "        text-align: right;\n",
       "    }\n",
       "</style>\n",
       "<table border=\"1\" class=\"dataframe\">\n",
       "  <thead>\n",
       "    <tr style=\"text-align: right;\">\n",
       "      <th></th>\n",
       "      <th>prob</th>\n",
       "      <th>accuracy</th>\n",
       "      <th>sensi</th>\n",
       "      <th>lead_conv_rate</th>\n",
       "    </tr>\n",
       "  </thead>\n",
       "  <tbody>\n",
       "    <tr>\n",
       "      <th>0.0</th>\n",
       "      <td>0.0</td>\n",
       "      <td>0.377364</td>\n",
       "      <td>1.000000</td>\n",
       "      <td>0.377364</td>\n",
       "    </tr>\n",
       "    <tr>\n",
       "      <th>0.1</th>\n",
       "      <td>0.1</td>\n",
       "      <td>0.441677</td>\n",
       "      <td>0.997076</td>\n",
       "      <td>0.403073</td>\n",
       "    </tr>\n",
       "    <tr>\n",
       "      <th>0.2</th>\n",
       "      <td>0.2</td>\n",
       "      <td>0.441520</td>\n",
       "      <td>0.996658</td>\n",
       "      <td>0.402972</td>\n",
       "    </tr>\n",
       "    <tr>\n",
       "      <th>0.3</th>\n",
       "      <td>0.3</td>\n",
       "      <td>0.813367</td>\n",
       "      <td>0.665414</td>\n",
       "      <td>0.806174</td>\n",
       "    </tr>\n",
       "    <tr>\n",
       "      <th>0.4</th>\n",
       "      <td>0.4</td>\n",
       "      <td>0.813367</td>\n",
       "      <td>0.665414</td>\n",
       "      <td>0.806174</td>\n",
       "    </tr>\n",
       "    <tr>\n",
       "      <th>0.5</th>\n",
       "      <td>0.5</td>\n",
       "      <td>0.813367</td>\n",
       "      <td>0.665414</td>\n",
       "      <td>0.806174</td>\n",
       "    </tr>\n",
       "    <tr>\n",
       "      <th>0.6</th>\n",
       "      <td>0.6</td>\n",
       "      <td>0.813367</td>\n",
       "      <td>0.665414</td>\n",
       "      <td>0.806174</td>\n",
       "    </tr>\n",
       "    <tr>\n",
       "      <th>0.7</th>\n",
       "      <td>0.7</td>\n",
       "      <td>0.813367</td>\n",
       "      <td>0.665414</td>\n",
       "      <td>0.806174</td>\n",
       "    </tr>\n",
       "    <tr>\n",
       "      <th>0.8</th>\n",
       "      <td>0.8</td>\n",
       "      <td>0.705549</td>\n",
       "      <td>0.234754</td>\n",
       "      <td>0.939799</td>\n",
       "    </tr>\n",
       "    <tr>\n",
       "      <th>0.9</th>\n",
       "      <td>0.9</td>\n",
       "      <td>0.705549</td>\n",
       "      <td>0.234754</td>\n",
       "      <td>0.939799</td>\n",
       "    </tr>\n",
       "  </tbody>\n",
       "</table>\n",
       "</div>"
      ],
      "text/plain": [
       "     prob  accuracy     sensi  lead_conv_rate\n",
       "0.0   0.0  0.377364  1.000000        0.377364\n",
       "0.1   0.1  0.441677  0.997076        0.403073\n",
       "0.2   0.2  0.441520  0.996658        0.402972\n",
       "0.3   0.3  0.813367  0.665414        0.806174\n",
       "0.4   0.4  0.813367  0.665414        0.806174\n",
       "0.5   0.5  0.813367  0.665414        0.806174\n",
       "0.6   0.6  0.813367  0.665414        0.806174\n",
       "0.7   0.7  0.813367  0.665414        0.806174\n",
       "0.8   0.8  0.705549  0.234754        0.939799\n",
       "0.9   0.9  0.705549  0.234754        0.939799"
      ]
     },
     "execution_count": 1733,
     "metadata": {},
     "output_type": "execute_result"
    }
   ],
   "source": [
    "cutoff_df\n",
    "# Sensitivity is low when lead conversion rate is more than 80%. Need to try ROC value equalling 10"
   ]
  },
  {
   "cell_type": "markdown",
   "id": "9e5ca389",
   "metadata": {},
   "source": [
    "#### RFE value being 10"
   ]
  },
  {
   "cell_type": "code",
   "execution_count": 1734,
   "id": "9bc85d17",
   "metadata": {},
   "outputs": [
    {
     "data": {
      "text/html": [
       "<table class=\"simpletable\">\n",
       "<caption>Generalized Linear Model Regression Results</caption>\n",
       "<tr>\n",
       "  <th>Dep. Variable:</th>       <td>Converted</td>    <th>  No. Observations:  </th>  <td>  6344</td> \n",
       "</tr>\n",
       "<tr>\n",
       "  <th>Model:</th>                  <td>GLM</td>       <th>  Df Residuals:      </th>  <td>  6333</td> \n",
       "</tr>\n",
       "<tr>\n",
       "  <th>Model Family:</th>        <td>Binomial</td>     <th>  Df Model:          </th>  <td>    10</td> \n",
       "</tr>\n",
       "<tr>\n",
       "  <th>Link Function:</th>         <td>Logit</td>      <th>  Scale:             </th> <td>  1.0000</td>\n",
       "</tr>\n",
       "<tr>\n",
       "  <th>Method:</th>                <td>IRLS</td>       <th>  Log-Likelihood:    </th> <td> -2587.1</td>\n",
       "</tr>\n",
       "<tr>\n",
       "  <th>Date:</th>            <td>Tue, 22 Nov 2022</td> <th>  Deviance:          </th> <td>  5174.2</td>\n",
       "</tr>\n",
       "<tr>\n",
       "  <th>Time:</th>                <td>20:36:11</td>     <th>  Pearson chi2:      </th> <td>7.56e+03</td>\n",
       "</tr>\n",
       "<tr>\n",
       "  <th>No. Iterations:</th>          <td>7</td>        <th>  Pseudo R-squ. (CS):</th>  <td>0.3995</td> \n",
       "</tr>\n",
       "<tr>\n",
       "  <th>Covariance Type:</th>     <td>nonrobust</td>    <th>                     </th>     <td> </td>   \n",
       "</tr>\n",
       "</table>\n",
       "<table class=\"simpletable\">\n",
       "<tr>\n",
       "                   <td></td>                     <th>coef</th>     <th>std err</th>      <th>z</th>      <th>P>|z|</th>  <th>[0.025</th>    <th>0.975]</th>  \n",
       "</tr>\n",
       "<tr>\n",
       "  <th>const</th>                              <td>   -1.6807</td> <td>    0.055</td> <td>  -30.669</td> <td> 0.000</td> <td>   -1.788</td> <td>   -1.573</td>\n",
       "</tr>\n",
       "<tr>\n",
       "  <th>Do Not Email</th>                       <td>   -1.1715</td> <td>    0.169</td> <td>   -6.945</td> <td> 0.000</td> <td>   -1.502</td> <td>   -0.841</td>\n",
       "</tr>\n",
       "<tr>\n",
       "  <th>Lead Origin_Others</th>                 <td>    2.1990</td> <td>    0.190</td> <td>   11.558</td> <td> 0.000</td> <td>    1.826</td> <td>    2.572</td>\n",
       "</tr>\n",
       "<tr>\n",
       "  <th>Lead Source_Olark Chat</th>             <td>    0.0077</td> <td>    0.089</td> <td>    0.087</td> <td> 0.931</td> <td>   -0.167</td> <td>    0.182</td>\n",
       "</tr>\n",
       "<tr>\n",
       "  <th>Occupation_Working Professional</th>    <td>    1.7007</td> <td>    0.200</td> <td>    8.522</td> <td> 0.000</td> <td>    1.310</td> <td>    2.092</td>\n",
       "</tr>\n",
       "<tr>\n",
       "  <th>Lead Quality_High in Relevance</th>     <td>    3.7408</td> <td>    0.210</td> <td>   17.791</td> <td> 0.000</td> <td>    3.329</td> <td>    4.153</td>\n",
       "</tr>\n",
       "<tr>\n",
       "  <th>Lead Quality_Low in Relevance</th>      <td>    2.8197</td> <td>    0.151</td> <td>   18.695</td> <td> 0.000</td> <td>    2.524</td> <td>    3.115</td>\n",
       "</tr>\n",
       "<tr>\n",
       "  <th>Lead Quality_Might be</th>              <td>    1.8050</td> <td>    0.095</td> <td>   19.029</td> <td> 0.000</td> <td>    1.619</td> <td>    1.991</td>\n",
       "</tr>\n",
       "<tr>\n",
       "  <th>Lead Quality_Worst</th>                 <td>   -2.2540</td> <td>    0.362</td> <td>   -6.226</td> <td> 0.000</td> <td>   -2.964</td> <td>   -1.544</td>\n",
       "</tr>\n",
       "<tr>\n",
       "  <th>Asymmetrique Activity Index_03.Low</th> <td>   -1.7951</td> <td>    0.263</td> <td>   -6.820</td> <td> 0.000</td> <td>   -2.311</td> <td>   -1.279</td>\n",
       "</tr>\n",
       "<tr>\n",
       "  <th>Last Notable Activity_SMS Sent</th>     <td>    1.6396</td> <td>    0.080</td> <td>   20.580</td> <td> 0.000</td> <td>    1.483</td> <td>    1.796</td>\n",
       "</tr>\n",
       "</table>"
      ],
      "text/plain": [
       "<class 'statsmodels.iolib.summary.Summary'>\n",
       "\"\"\"\n",
       "                 Generalized Linear Model Regression Results                  \n",
       "==============================================================================\n",
       "Dep. Variable:              Converted   No. Observations:                 6344\n",
       "Model:                            GLM   Df Residuals:                     6333\n",
       "Model Family:                Binomial   Df Model:                           10\n",
       "Link Function:                  Logit   Scale:                          1.0000\n",
       "Method:                          IRLS   Log-Likelihood:                -2587.1\n",
       "Date:                Tue, 22 Nov 2022   Deviance:                       5174.2\n",
       "Time:                        20:36:11   Pearson chi2:                 7.56e+03\n",
       "No. Iterations:                     7   Pseudo R-squ. (CS):             0.3995\n",
       "Covariance Type:            nonrobust                                         \n",
       "======================================================================================================\n",
       "                                         coef    std err          z      P>|z|      [0.025      0.975]\n",
       "------------------------------------------------------------------------------------------------------\n",
       "const                                 -1.6807      0.055    -30.669      0.000      -1.788      -1.573\n",
       "Do Not Email                          -1.1715      0.169     -6.945      0.000      -1.502      -0.841\n",
       "Lead Origin_Others                     2.1990      0.190     11.558      0.000       1.826       2.572\n",
       "Lead Source_Olark Chat                 0.0077      0.089      0.087      0.931      -0.167       0.182\n",
       "Occupation_Working Professional        1.7007      0.200      8.522      0.000       1.310       2.092\n",
       "Lead Quality_High in Relevance         3.7408      0.210     17.791      0.000       3.329       4.153\n",
       "Lead Quality_Low in Relevance          2.8197      0.151     18.695      0.000       2.524       3.115\n",
       "Lead Quality_Might be                  1.8050      0.095     19.029      0.000       1.619       1.991\n",
       "Lead Quality_Worst                    -2.2540      0.362     -6.226      0.000      -2.964      -1.544\n",
       "Asymmetrique Activity Index_03.Low    -1.7951      0.263     -6.820      0.000      -2.311      -1.279\n",
       "Last Notable Activity_SMS Sent         1.6396      0.080     20.580      0.000       1.483       1.796\n",
       "======================================================================================================\n",
       "\"\"\""
      ]
     },
     "execution_count": 1734,
     "metadata": {},
     "output_type": "execute_result"
    }
   ],
   "source": [
    "col_RFE = log_rfe(10) # Passing number of columns equalling 10 to log_rfe function getting 10 columns\n",
    "res = log_model(col_RFE) # Passing the 10 columns received from log_rfe function to log_model funciton to get the model\n",
    "res.summary()"
   ]
  },
  {
   "cell_type": "code",
   "execution_count": 1735,
   "id": "fe3ade48",
   "metadata": {},
   "outputs": [
    {
     "data": {
      "image/png": "[encoded data removed]",
      "text/plain": [
       "<Figure size 432x288 with 1 Axes>"
      ]
     },
     "metadata": {
      "needs_background": "light"
     },
     "output_type": "display_data"
    }
   ],
   "source": [
    "y_train_pred_final, cutoff_df = plot_curve(res, col_RFE) # Plotting the metrics "
   ]
  },
  {
   "cell_type": "code",
   "execution_count": 1736,
   "id": "bb6654a2",
   "metadata": {},
   "outputs": [
    {
     "data": {
      "text/html": [
       "<div>\n",
       "<style scoped>\n",
       "    .dataframe tbody tr th:only-of-type {\n",
       "        vertical-align: middle;\n",
       "    }\n",
       "\n",
       "    .dataframe tbody tr th {\n",
       "        vertical-align: top;\n",
       "    }\n",
       "\n",
       "    .dataframe thead th {\n",
       "        text-align: right;\n",
       "    }\n",
       "</style>\n",
       "<table border=\"1\" class=\"dataframe\">\n",
       "  <thead>\n",
       "    <tr style=\"text-align: right;\">\n",
       "      <th></th>\n",
       "      <th>prob</th>\n",
       "      <th>accuracy</th>\n",
       "      <th>sensi</th>\n",
       "      <th>lead_conv_rate</th>\n",
       "    </tr>\n",
       "  </thead>\n",
       "  <tbody>\n",
       "    <tr>\n",
       "      <th>0.0</th>\n",
       "      <td>0.0</td>\n",
       "      <td>0.377364</td>\n",
       "      <td>1.000000</td>\n",
       "      <td>0.377364</td>\n",
       "    </tr>\n",
       "    <tr>\n",
       "      <th>0.1</th>\n",
       "      <td>0.1</td>\n",
       "      <td>0.501576</td>\n",
       "      <td>0.987886</td>\n",
       "      <td>0.430156</td>\n",
       "    </tr>\n",
       "    <tr>\n",
       "      <th>0.2</th>\n",
       "      <td>0.2</td>\n",
       "      <td>0.820618</td>\n",
       "      <td>0.819131</td>\n",
       "      <td>0.735559</td>\n",
       "    </tr>\n",
       "    <tr>\n",
       "      <th>0.3</th>\n",
       "      <td>0.3</td>\n",
       "      <td>0.827711</td>\n",
       "      <td>0.812865</td>\n",
       "      <td>0.751061</td>\n",
       "    </tr>\n",
       "    <tr>\n",
       "      <th>0.4</th>\n",
       "      <td>0.4</td>\n",
       "      <td>0.827869</td>\n",
       "      <td>0.810359</td>\n",
       "      <td>0.752521</td>\n",
       "    </tr>\n",
       "    <tr>\n",
       "      <th>0.5</th>\n",
       "      <td>0.5</td>\n",
       "      <td>0.819515</td>\n",
       "      <td>0.664578</td>\n",
       "      <td>0.823073</td>\n",
       "    </tr>\n",
       "    <tr>\n",
       "      <th>0.6</th>\n",
       "      <td>0.6</td>\n",
       "      <td>0.807692</td>\n",
       "      <td>0.578112</td>\n",
       "      <td>0.868256</td>\n",
       "    </tr>\n",
       "    <tr>\n",
       "      <th>0.7</th>\n",
       "      <td>0.7</td>\n",
       "      <td>0.802648</td>\n",
       "      <td>0.554302</td>\n",
       "      <td>0.877646</td>\n",
       "    </tr>\n",
       "    <tr>\n",
       "      <th>0.8</th>\n",
       "      <td>0.8</td>\n",
       "      <td>0.782156</td>\n",
       "      <td>0.480368</td>\n",
       "      <td>0.892857</td>\n",
       "    </tr>\n",
       "    <tr>\n",
       "      <th>0.9</th>\n",
       "      <td>0.9</td>\n",
       "      <td>0.715322</td>\n",
       "      <td>0.256057</td>\n",
       "      <td>0.960815</td>\n",
       "    </tr>\n",
       "  </tbody>\n",
       "</table>\n",
       "</div>"
      ],
      "text/plain": [
       "     prob  accuracy     sensi  lead_conv_rate\n",
       "0.0   0.0  0.377364  1.000000        0.377364\n",
       "0.1   0.1  0.501576  0.987886        0.430156\n",
       "0.2   0.2  0.820618  0.819131        0.735559\n",
       "0.3   0.3  0.827711  0.812865        0.751061\n",
       "0.4   0.4  0.827869  0.810359        0.752521\n",
       "0.5   0.5  0.819515  0.664578        0.823073\n",
       "0.6   0.6  0.807692  0.578112        0.868256\n",
       "0.7   0.7  0.802648  0.554302        0.877646\n",
       "0.8   0.8  0.782156  0.480368        0.892857\n",
       "0.9   0.9  0.715322  0.256057        0.960815"
      ]
     },
     "execution_count": 1736,
     "metadata": {},
     "output_type": "execute_result"
    }
   ],
   "source": [
    "cutoff_df\n",
    "# Sensitivity is low when lead conversion rate is more than 80%. Need to try ROC value equalling 15"
   ]
  },
  {
   "cell_type": "markdown",
   "id": "b4126f29",
   "metadata": {},
   "source": [
    "#### RFE value being 15"
   ]
  },
  {
   "cell_type": "code",
   "execution_count": 1737,
   "id": "bb32443c",
   "metadata": {},
   "outputs": [
    {
     "data": {
      "text/html": [
       "<table class=\"simpletable\">\n",
       "<caption>Generalized Linear Model Regression Results</caption>\n",
       "<tr>\n",
       "  <th>Dep. Variable:</th>       <td>Converted</td>    <th>  No. Observations:  </th>  <td>  6344</td> \n",
       "</tr>\n",
       "<tr>\n",
       "  <th>Model:</th>                  <td>GLM</td>       <th>  Df Residuals:      </th>  <td>  6328</td> \n",
       "</tr>\n",
       "<tr>\n",
       "  <th>Model Family:</th>        <td>Binomial</td>     <th>  Df Model:          </th>  <td>    15</td> \n",
       "</tr>\n",
       "<tr>\n",
       "  <th>Link Function:</th>         <td>Logit</td>      <th>  Scale:             </th> <td>  1.0000</td>\n",
       "</tr>\n",
       "<tr>\n",
       "  <th>Method:</th>                <td>IRLS</td>       <th>  Log-Likelihood:    </th> <td> -2227.5</td>\n",
       "</tr>\n",
       "<tr>\n",
       "  <th>Date:</th>            <td>Tue, 22 Nov 2022</td> <th>  Deviance:          </th> <td>  4455.1</td>\n",
       "</tr>\n",
       "<tr>\n",
       "  <th>Time:</th>                <td>20:36:12</td>     <th>  Pearson chi2:      </th> <td>7.09e+03</td>\n",
       "</tr>\n",
       "<tr>\n",
       "  <th>No. Iterations:</th>          <td>7</td>        <th>  Pseudo R-squ. (CS):</th>  <td>0.4638</td> \n",
       "</tr>\n",
       "<tr>\n",
       "  <th>Covariance Type:</th>     <td>nonrobust</td>    <th>                     </th>     <td> </td>   \n",
       "</tr>\n",
       "</table>\n",
       "<table class=\"simpletable\">\n",
       "<tr>\n",
       "                     <td></td>                        <th>coef</th>     <th>std err</th>      <th>z</th>      <th>P>|z|</th>  <th>[0.025</th>    <th>0.975]</th>  \n",
       "</tr>\n",
       "<tr>\n",
       "  <th>const</th>                                   <td>   -2.6982</td> <td>    0.105</td> <td>  -25.759</td> <td> 0.000</td> <td>   -2.903</td> <td>   -2.493</td>\n",
       "</tr>\n",
       "<tr>\n",
       "  <th>Do Not Email</th>                            <td>   -0.8930</td> <td>    0.194</td> <td>   -4.601</td> <td> 0.000</td> <td>   -1.273</td> <td>   -0.513</td>\n",
       "</tr>\n",
       "<tr>\n",
       "  <th>Total Time Spent on Website</th>             <td>    1.0448</td> <td>    0.044</td> <td>   23.491</td> <td> 0.000</td> <td>    0.958</td> <td>    1.132</td>\n",
       "</tr>\n",
       "<tr>\n",
       "  <th>Lead Origin_Others</th>                      <td>    3.2607</td> <td>    0.199</td> <td>   16.406</td> <td> 0.000</td> <td>    2.871</td> <td>    3.650</td>\n",
       "</tr>\n",
       "<tr>\n",
       "  <th>Lead Source_Olark Chat</th>                  <td>    1.3225</td> <td>    0.111</td> <td>   11.924</td> <td> 0.000</td> <td>    1.105</td> <td>    1.540</td>\n",
       "</tr>\n",
       "<tr>\n",
       "  <th>Last Activity_Email Opened</th>              <td>    0.8275</td> <td>    0.108</td> <td>    7.658</td> <td> 0.000</td> <td>    0.616</td> <td>    1.039</td>\n",
       "</tr>\n",
       "<tr>\n",
       "  <th>Last Activity_Form Submitted on Website</th> <td>    0.6882</td> <td>    0.363</td> <td>    1.896</td> <td> 0.058</td> <td>   -0.023</td> <td>    1.400</td>\n",
       "</tr>\n",
       "<tr>\n",
       "  <th>Last Activity_Other</th>                     <td>    0.9913</td> <td>    0.275</td> <td>    3.610</td> <td> 0.000</td> <td>    0.453</td> <td>    1.529</td>\n",
       "</tr>\n",
       "<tr>\n",
       "  <th>Last Activity_SMS Sent</th>                  <td>    1.0514</td> <td>    0.166</td> <td>    6.337</td> <td> 0.000</td> <td>    0.726</td> <td>    1.377</td>\n",
       "</tr>\n",
       "<tr>\n",
       "  <th>Occupation_Working Professional</th>         <td>    1.7212</td> <td>    0.214</td> <td>    8.026</td> <td> 0.000</td> <td>    1.301</td> <td>    2.142</td>\n",
       "</tr>\n",
       "<tr>\n",
       "  <th>Lead Quality_High in Relevance</th>          <td>    3.5452</td> <td>    0.221</td> <td>   16.068</td> <td> 0.000</td> <td>    3.113</td> <td>    3.978</td>\n",
       "</tr>\n",
       "<tr>\n",
       "  <th>Lead Quality_Low in Relevance</th>           <td>    2.6142</td> <td>    0.163</td> <td>   16.016</td> <td> 0.000</td> <td>    2.294</td> <td>    2.934</td>\n",
       "</tr>\n",
       "<tr>\n",
       "  <th>Lead Quality_Might be</th>                   <td>    1.7278</td> <td>    0.104</td> <td>   16.555</td> <td> 0.000</td> <td>    1.523</td> <td>    1.932</td>\n",
       "</tr>\n",
       "<tr>\n",
       "  <th>Lead Quality_Worst</th>                      <td>   -2.0667</td> <td>    0.380</td> <td>   -5.442</td> <td> 0.000</td> <td>   -2.811</td> <td>   -1.322</td>\n",
       "</tr>\n",
       "<tr>\n",
       "  <th>Asymmetrique Activity Index_03.Low</th>      <td>   -1.7526</td> <td>    0.279</td> <td>   -6.288</td> <td> 0.000</td> <td>   -2.299</td> <td>   -1.206</td>\n",
       "</tr>\n",
       "<tr>\n",
       "  <th>Last Notable Activity_SMS Sent</th>          <td>    1.1973</td> <td>    0.156</td> <td>    7.688</td> <td> 0.000</td> <td>    0.892</td> <td>    1.503</td>\n",
       "</tr>\n",
       "</table>"
      ],
      "text/plain": [
       "<class 'statsmodels.iolib.summary.Summary'>\n",
       "\"\"\"\n",
       "                 Generalized Linear Model Regression Results                  \n",
       "==============================================================================\n",
       "Dep. Variable:              Converted   No. Observations:                 6344\n",
       "Model:                            GLM   Df Residuals:                     6328\n",
       "Model Family:                Binomial   Df Model:                           15\n",
       "Link Function:                  Logit   Scale:                          1.0000\n",
       "Method:                          IRLS   Log-Likelihood:                -2227.5\n",
       "Date:                Tue, 22 Nov 2022   Deviance:                       4455.1\n",
       "Time:                        20:36:12   Pearson chi2:                 7.09e+03\n",
       "No. Iterations:                     7   Pseudo R-squ. (CS):             0.4638\n",
       "Covariance Type:            nonrobust                                         \n",
       "===========================================================================================================\n",
       "                                              coef    std err          z      P>|z|      [0.025      0.975]\n",
       "-----------------------------------------------------------------------------------------------------------\n",
       "const                                      -2.6982      0.105    -25.759      0.000      -2.903      -2.493\n",
       "Do Not Email                               -0.8930      0.194     -4.601      0.000      -1.273      -0.513\n",
       "Total Time Spent on Website                 1.0448      0.044     23.491      0.000       0.958       1.132\n",
       "Lead Origin_Others                          3.2607      0.199     16.406      0.000       2.871       3.650\n",
       "Lead Source_Olark Chat                      1.3225      0.111     11.924      0.000       1.105       1.540\n",
       "Last Activity_Email Opened                  0.8275      0.108      7.658      0.000       0.616       1.039\n",
       "Last Activity_Form Submitted on Website     0.6882      0.363      1.896      0.058      -0.023       1.400\n",
       "Last Activity_Other                         0.9913      0.275      3.610      0.000       0.453       1.529\n",
       "Last Activity_SMS Sent                      1.0514      0.166      6.337      0.000       0.726       1.377\n",
       "Occupation_Working Professional             1.7212      0.214      8.026      0.000       1.301       2.142\n",
       "Lead Quality_High in Relevance              3.5452      0.221     16.068      0.000       3.113       3.978\n",
       "Lead Quality_Low in Relevance               2.6142      0.163     16.016      0.000       2.294       2.934\n",
       "Lead Quality_Might be                       1.7278      0.104     16.555      0.000       1.523       1.932\n",
       "Lead Quality_Worst                         -2.0667      0.380     -5.442      0.000      -2.811      -1.322\n",
       "Asymmetrique Activity Index_03.Low         -1.7526      0.279     -6.288      0.000      -2.299      -1.206\n",
       "Last Notable Activity_SMS Sent              1.1973      0.156      7.688      0.000       0.892       1.503\n",
       "===========================================================================================================\n",
       "\"\"\""
      ]
     },
     "execution_count": 1737,
     "metadata": {},
     "output_type": "execute_result"
    }
   ],
   "source": [
    "col_RFE = log_rfe(15) # Passing number of columns equalling 15 to log_rfe function getting 15 columns\n",
    "res = log_model(col_RFE) # Passing the 15 columns received from log_rfe function to log_model funciton to get the model\n",
    "res.summary()"
   ]
  },
  {
   "cell_type": "code",
   "execution_count": 1738,
   "id": "f5ce72aa",
   "metadata": {},
   "outputs": [
    {
     "data": {
      "image/png": "[encoded data removed]",
      "text/plain": [
       "<Figure size 432x288 with 1 Axes>"
      ]
     },
     "metadata": {
      "needs_background": "light"
     },
     "output_type": "display_data"
    }
   ],
   "source": [
    "y_train_pred_final, cutoff_df = plot_curve(res, col_RFE) # Plotting the metrics "
   ]
  },
  {
   "cell_type": "code",
   "execution_count": 1739,
   "id": "7c711459",
   "metadata": {},
   "outputs": [
    {
     "data": {
      "text/html": [
       "<div>\n",
       "<style scoped>\n",
       "    .dataframe tbody tr th:only-of-type {\n",
       "        vertical-align: middle;\n",
       "    }\n",
       "\n",
       "    .dataframe tbody tr th {\n",
       "        vertical-align: top;\n",
       "    }\n",
       "\n",
       "    .dataframe thead th {\n",
       "        text-align: right;\n",
       "    }\n",
       "</style>\n",
       "<table border=\"1\" class=\"dataframe\">\n",
       "  <thead>\n",
       "    <tr style=\"text-align: right;\">\n",
       "      <th></th>\n",
       "      <th>prob</th>\n",
       "      <th>accuracy</th>\n",
       "      <th>sensi</th>\n",
       "      <th>lead_conv_rate</th>\n",
       "    </tr>\n",
       "  </thead>\n",
       "  <tbody>\n",
       "    <tr>\n",
       "      <th>0.0</th>\n",
       "      <td>0.0</td>\n",
       "      <td>0.377364</td>\n",
       "      <td>1.000000</td>\n",
       "      <td>0.377364</td>\n",
       "    </tr>\n",
       "    <tr>\n",
       "      <th>0.1</th>\n",
       "      <td>0.1</td>\n",
       "      <td>0.720839</td>\n",
       "      <td>0.965748</td>\n",
       "      <td>0.577856</td>\n",
       "    </tr>\n",
       "    <tr>\n",
       "      <th>0.2</th>\n",
       "      <td>0.2</td>\n",
       "      <td>0.811318</td>\n",
       "      <td>0.904344</td>\n",
       "      <td>0.691031</td>\n",
       "    </tr>\n",
       "    <tr>\n",
       "      <th>0.3</th>\n",
       "      <td>0.3</td>\n",
       "      <td>0.839849</td>\n",
       "      <td>0.861320</td>\n",
       "      <td>0.750910</td>\n",
       "    </tr>\n",
       "    <tr>\n",
       "      <th>0.4</th>\n",
       "      <td>0.4</td>\n",
       "      <td>0.852774</td>\n",
       "      <td>0.818713</td>\n",
       "      <td>0.796748</td>\n",
       "    </tr>\n",
       "    <tr>\n",
       "      <th>0.5</th>\n",
       "      <td>0.5</td>\n",
       "      <td>0.843474</td>\n",
       "      <td>0.743525</td>\n",
       "      <td>0.824456</td>\n",
       "    </tr>\n",
       "    <tr>\n",
       "      <th>0.6</th>\n",
       "      <td>0.6</td>\n",
       "      <td>0.840164</td>\n",
       "      <td>0.700084</td>\n",
       "      <td>0.849899</td>\n",
       "    </tr>\n",
       "    <tr>\n",
       "      <th>0.7</th>\n",
       "      <td>0.7</td>\n",
       "      <td>0.826608</td>\n",
       "      <td>0.618212</td>\n",
       "      <td>0.888355</td>\n",
       "    </tr>\n",
       "    <tr>\n",
       "      <th>0.8</th>\n",
       "      <td>0.8</td>\n",
       "      <td>0.805801</td>\n",
       "      <td>0.528404</td>\n",
       "      <td>0.924708</td>\n",
       "    </tr>\n",
       "    <tr>\n",
       "      <th>0.9</th>\n",
       "      <td>0.9</td>\n",
       "      <td>0.759300</td>\n",
       "      <td>0.386800</td>\n",
       "      <td>0.940102</td>\n",
       "    </tr>\n",
       "  </tbody>\n",
       "</table>\n",
       "</div>"
      ],
      "text/plain": [
       "     prob  accuracy     sensi  lead_conv_rate\n",
       "0.0   0.0  0.377364  1.000000        0.377364\n",
       "0.1   0.1  0.720839  0.965748        0.577856\n",
       "0.2   0.2  0.811318  0.904344        0.691031\n",
       "0.3   0.3  0.839849  0.861320        0.750910\n",
       "0.4   0.4  0.852774  0.818713        0.796748\n",
       "0.5   0.5  0.843474  0.743525        0.824456\n",
       "0.6   0.6  0.840164  0.700084        0.849899\n",
       "0.7   0.7  0.826608  0.618212        0.888355\n",
       "0.8   0.8  0.805801  0.528404        0.924708\n",
       "0.9   0.9  0.759300  0.386800        0.940102"
      ]
     },
     "execution_count": 1739,
     "metadata": {},
     "output_type": "execute_result"
    }
   ],
   "source": [
    "cutoff_df\n",
    "# Sensitivity and accuracy is ok when lead conversion rate is more than 80%. Need to try ROC value equalling 20"
   ]
  },
  {
   "cell_type": "markdown",
   "id": "1f22521c",
   "metadata": {},
   "source": [
    "#### RFE value being 20"
   ]
  },
  {
   "cell_type": "code",
   "execution_count": 1740,
   "id": "4bb19c19",
   "metadata": {},
   "outputs": [
    {
     "data": {
      "text/html": [
       "<table class=\"simpletable\">\n",
       "<caption>Generalized Linear Model Regression Results</caption>\n",
       "<tr>\n",
       "  <th>Dep. Variable:</th>       <td>Converted</td>    <th>  No. Observations:  </th>  <td>  6344</td> \n",
       "</tr>\n",
       "<tr>\n",
       "  <th>Model:</th>                  <td>GLM</td>       <th>  Df Residuals:      </th>  <td>  6323</td> \n",
       "</tr>\n",
       "<tr>\n",
       "  <th>Model Family:</th>        <td>Binomial</td>     <th>  Df Model:          </th>  <td>    20</td> \n",
       "</tr>\n",
       "<tr>\n",
       "  <th>Link Function:</th>         <td>Logit</td>      <th>  Scale:             </th> <td>  1.0000</td>\n",
       "</tr>\n",
       "<tr>\n",
       "  <th>Method:</th>                <td>IRLS</td>       <th>  Log-Likelihood:    </th> <td> -2179.5</td>\n",
       "</tr>\n",
       "<tr>\n",
       "  <th>Date:</th>            <td>Tue, 22 Nov 2022</td> <th>  Deviance:          </th> <td>  4358.9</td>\n",
       "</tr>\n",
       "<tr>\n",
       "  <th>Time:</th>                <td>20:36:14</td>     <th>  Pearson chi2:      </th> <td>6.76e+03</td>\n",
       "</tr>\n",
       "<tr>\n",
       "  <th>No. Iterations:</th>          <td>7</td>        <th>  Pseudo R-squ. (CS):</th>  <td>0.4719</td> \n",
       "</tr>\n",
       "<tr>\n",
       "  <th>Covariance Type:</th>     <td>nonrobust</td>    <th>                     </th>     <td> </td>   \n",
       "</tr>\n",
       "</table>\n",
       "<table class=\"simpletable\">\n",
       "<tr>\n",
       "                     <td></td>                        <th>coef</th>     <th>std err</th>      <th>z</th>      <th>P>|z|</th>  <th>[0.025</th>    <th>0.975]</th>  \n",
       "</tr>\n",
       "<tr>\n",
       "  <th>const</th>                                   <td>   -3.1467</td> <td>    0.158</td> <td>  -19.857</td> <td> 0.000</td> <td>   -3.457</td> <td>   -2.836</td>\n",
       "</tr>\n",
       "<tr>\n",
       "  <th>Do Not Email</th>                            <td>   -1.0800</td> <td>    0.199</td> <td>   -5.418</td> <td> 0.000</td> <td>   -1.471</td> <td>   -0.689</td>\n",
       "</tr>\n",
       "<tr>\n",
       "  <th>Total Time Spent on Website</th>             <td>    1.0421</td> <td>    0.045</td> <td>   23.216</td> <td> 0.000</td> <td>    0.954</td> <td>    1.130</td>\n",
       "</tr>\n",
       "<tr>\n",
       "  <th>Lead Origin_Others</th>                      <td>    2.9472</td> <td>    0.199</td> <td>   14.774</td> <td> 0.000</td> <td>    2.556</td> <td>    3.338</td>\n",
       "</tr>\n",
       "<tr>\n",
       "  <th>Lead Source_Olark Chat</th>                  <td>    1.3958</td> <td>    0.116</td> <td>   11.983</td> <td> 0.000</td> <td>    1.167</td> <td>    1.624</td>\n",
       "</tr>\n",
       "<tr>\n",
       "  <th>Last Activity_Email Opened</th>              <td>    0.8650</td> <td>    0.150</td> <td>    5.748</td> <td> 0.000</td> <td>    0.570</td> <td>    1.160</td>\n",
       "</tr>\n",
       "<tr>\n",
       "  <th>Last Activity_Form Submitted on Website</th> <td>    0.7236</td> <td>    0.377</td> <td>    1.920</td> <td> 0.055</td> <td>   -0.015</td> <td>    1.462</td>\n",
       "</tr>\n",
       "<tr>\n",
       "  <th>Last Activity_Olark Chat Conversation</th>   <td>   -0.4849</td> <td>    0.204</td> <td>   -2.376</td> <td> 0.017</td> <td>   -0.885</td> <td>   -0.085</td>\n",
       "</tr>\n",
       "<tr>\n",
       "  <th>Last Activity_Other</th>                     <td>    0.7859</td> <td>    0.288</td> <td>    2.731</td> <td> 0.006</td> <td>    0.222</td> <td>    1.350</td>\n",
       "</tr>\n",
       "<tr>\n",
       "  <th>Last Activity_SMS Sent</th>                  <td>    1.2632</td> <td>    0.199</td> <td>    6.359</td> <td> 0.000</td> <td>    0.874</td> <td>    1.653</td>\n",
       "</tr>\n",
       "<tr>\n",
       "  <th>Occupation_Student/Others</th>               <td>    1.0727</td> <td>    0.298</td> <td>    3.595</td> <td> 0.000</td> <td>    0.488</td> <td>    1.658</td>\n",
       "</tr>\n",
       "<tr>\n",
       "  <th>Occupation_Unemployed</th>                   <td>    0.8308</td> <td>    0.106</td> <td>    7.854</td> <td> 0.000</td> <td>    0.623</td> <td>    1.038</td>\n",
       "</tr>\n",
       "<tr>\n",
       "  <th>Occupation_Working Professional</th>         <td>    2.4836</td> <td>    0.234</td> <td>   10.592</td> <td> 0.000</td> <td>    2.024</td> <td>    2.943</td>\n",
       "</tr>\n",
       "<tr>\n",
       "  <th>Lead Quality_High in Relevance</th>          <td>    3.0730</td> <td>    0.226</td> <td>   13.574</td> <td> 0.000</td> <td>    2.629</td> <td>    3.517</td>\n",
       "</tr>\n",
       "<tr>\n",
       "  <th>Lead Quality_Low in Relevance</th>           <td>    2.1598</td> <td>    0.173</td> <td>   12.489</td> <td> 0.000</td> <td>    1.821</td> <td>    2.499</td>\n",
       "</tr>\n",
       "<tr>\n",
       "  <th>Lead Quality_Might be</th>                   <td>    1.2751</td> <td>    0.119</td> <td>   10.732</td> <td> 0.000</td> <td>    1.042</td> <td>    1.508</td>\n",
       "</tr>\n",
       "<tr>\n",
       "  <th>Lead Quality_Not Sure</th>                   <td>   -0.6115</td> <td>    0.130</td> <td>   -4.708</td> <td> 0.000</td> <td>   -0.866</td> <td>   -0.357</td>\n",
       "</tr>\n",
       "<tr>\n",
       "  <th>Lead Quality_Worst</th>                      <td>   -2.5671</td> <td>    0.386</td> <td>   -6.654</td> <td> 0.000</td> <td>   -3.323</td> <td>   -1.811</td>\n",
       "</tr>\n",
       "<tr>\n",
       "  <th>Asymmetrique Activity Index_03.Low</th>      <td>   -1.7653</td> <td>    0.277</td> <td>   -6.364</td> <td> 0.000</td> <td>   -2.309</td> <td>   -1.222</td>\n",
       "</tr>\n",
       "<tr>\n",
       "  <th>Last Notable Activity_Others</th>            <td>    0.7646</td> <td>    0.178</td> <td>    4.299</td> <td> 0.000</td> <td>    0.416</td> <td>    1.113</td>\n",
       "</tr>\n",
       "<tr>\n",
       "  <th>Last Notable Activity_SMS Sent</th>          <td>    1.0582</td> <td>    0.160</td> <td>    6.608</td> <td> 0.000</td> <td>    0.744</td> <td>    1.372</td>\n",
       "</tr>\n",
       "</table>"
      ],
      "text/plain": [
       "<class 'statsmodels.iolib.summary.Summary'>\n",
       "\"\"\"\n",
       "                 Generalized Linear Model Regression Results                  \n",
       "==============================================================================\n",
       "Dep. Variable:              Converted   No. Observations:                 6344\n",
       "Model:                            GLM   Df Residuals:                     6323\n",
       "Model Family:                Binomial   Df Model:                           20\n",
       "Link Function:                  Logit   Scale:                          1.0000\n",
       "Method:                          IRLS   Log-Likelihood:                -2179.5\n",
       "Date:                Tue, 22 Nov 2022   Deviance:                       4358.9\n",
       "Time:                        20:36:14   Pearson chi2:                 6.76e+03\n",
       "No. Iterations:                     7   Pseudo R-squ. (CS):             0.4719\n",
       "Covariance Type:            nonrobust                                         \n",
       "===========================================================================================================\n",
       "                                              coef    std err          z      P>|z|      [0.025      0.975]\n",
       "-----------------------------------------------------------------------------------------------------------\n",
       "const                                      -3.1467      0.158    -19.857      0.000      -3.457      -2.836\n",
       "Do Not Email                               -1.0800      0.199     -5.418      0.000      -1.471      -0.689\n",
       "Total Time Spent on Website                 1.0421      0.045     23.216      0.000       0.954       1.130\n",
       "Lead Origin_Others                          2.9472      0.199     14.774      0.000       2.556       3.338\n",
       "Lead Source_Olark Chat                      1.3958      0.116     11.983      0.000       1.167       1.624\n",
       "Last Activity_Email Opened                  0.8650      0.150      5.748      0.000       0.570       1.160\n",
       "Last Activity_Form Submitted on Website     0.7236      0.377      1.920      0.055      -0.015       1.462\n",
       "Last Activity_Olark Chat Conversation      -0.4849      0.204     -2.376      0.017      -0.885      -0.085\n",
       "Last Activity_Other                         0.7859      0.288      2.731      0.006       0.222       1.350\n",
       "Last Activity_SMS Sent                      1.2632      0.199      6.359      0.000       0.874       1.653\n",
       "Occupation_Student/Others                   1.0727      0.298      3.595      0.000       0.488       1.658\n",
       "Occupation_Unemployed                       0.8308      0.106      7.854      0.000       0.623       1.038\n",
       "Occupation_Working Professional             2.4836      0.234     10.592      0.000       2.024       2.943\n",
       "Lead Quality_High in Relevance              3.0730      0.226     13.574      0.000       2.629       3.517\n",
       "Lead Quality_Low in Relevance               2.1598      0.173     12.489      0.000       1.821       2.499\n",
       "Lead Quality_Might be                       1.2751      0.119     10.732      0.000       1.042       1.508\n",
       "Lead Quality_Not Sure                      -0.6115      0.130     -4.708      0.000      -0.866      -0.357\n",
       "Lead Quality_Worst                         -2.5671      0.386     -6.654      0.000      -3.323      -1.811\n",
       "Asymmetrique Activity Index_03.Low         -1.7653      0.277     -6.364      0.000      -2.309      -1.222\n",
       "Last Notable Activity_Others                0.7646      0.178      4.299      0.000       0.416       1.113\n",
       "Last Notable Activity_SMS Sent              1.0582      0.160      6.608      0.000       0.744       1.372\n",
       "===========================================================================================================\n",
       "\"\"\""
      ]
     },
     "execution_count": 1740,
     "metadata": {},
     "output_type": "execute_result"
    }
   ],
   "source": [
    "col_RFE = log_rfe(20) # Passing number of columns equalling 20 to log_rfe function getting 20 columns\n",
    "res = log_model(col_RFE) # Passing the 20 columns received from log_rfe function to log_model funciton to get the model\n",
    "res.summary()"
   ]
  },
  {
   "cell_type": "code",
   "execution_count": 1741,
   "id": "0dfbfe04",
   "metadata": {},
   "outputs": [
    {
     "data": {
      "image/png": "[encoded data removed]",
      "text/plain": [
       "<Figure size 432x288 with 1 Axes>"
      ]
     },
     "metadata": {
      "needs_background": "light"
     },
     "output_type": "display_data"
    }
   ],
   "source": [
    "\n",
    "y_train_pred_final, cutoff_df = plot_curve(res, col_RFE) # Plotting the metrics "
   ]
  },
  {
   "cell_type": "code",
   "execution_count": 1742,
   "id": "f9eecd9d",
   "metadata": {},
   "outputs": [
    {
     "data": {
      "text/html": [
       "<div>\n",
       "<style scoped>\n",
       "    .dataframe tbody tr th:only-of-type {\n",
       "        vertical-align: middle;\n",
       "    }\n",
       "\n",
       "    .dataframe tbody tr th {\n",
       "        vertical-align: top;\n",
       "    }\n",
       "\n",
       "    .dataframe thead th {\n",
       "        text-align: right;\n",
       "    }\n",
       "</style>\n",
       "<table border=\"1\" class=\"dataframe\">\n",
       "  <thead>\n",
       "    <tr style=\"text-align: right;\">\n",
       "      <th></th>\n",
       "      <th>prob</th>\n",
       "      <th>accuracy</th>\n",
       "      <th>sensi</th>\n",
       "      <th>lead_conv_rate</th>\n",
       "    </tr>\n",
       "  </thead>\n",
       "  <tbody>\n",
       "    <tr>\n",
       "      <th>0.0</th>\n",
       "      <td>0.0</td>\n",
       "      <td>0.377364</td>\n",
       "      <td>1.000000</td>\n",
       "      <td>0.377364</td>\n",
       "    </tr>\n",
       "    <tr>\n",
       "      <th>0.1</th>\n",
       "      <td>0.1</td>\n",
       "      <td>0.712484</td>\n",
       "      <td>0.966583</td>\n",
       "      <td>0.570232</td>\n",
       "    </tr>\n",
       "    <tr>\n",
       "      <th>0.2</th>\n",
       "      <td>0.2</td>\n",
       "      <td>0.815259</td>\n",
       "      <td>0.928989</td>\n",
       "      <td>0.689399</td>\n",
       "    </tr>\n",
       "    <tr>\n",
       "      <th>0.3</th>\n",
       "      <td>0.3</td>\n",
       "      <td>0.837957</td>\n",
       "      <td>0.857978</td>\n",
       "      <td>0.749088</td>\n",
       "    </tr>\n",
       "    <tr>\n",
       "      <th>0.4</th>\n",
       "      <td>0.4</td>\n",
       "      <td>0.851986</td>\n",
       "      <td>0.819967</td>\n",
       "      <td>0.794415</td>\n",
       "    </tr>\n",
       "    <tr>\n",
       "      <th>0.5</th>\n",
       "      <td>0.5</td>\n",
       "      <td>0.848834</td>\n",
       "      <td>0.761905</td>\n",
       "      <td>0.824221</td>\n",
       "    </tr>\n",
       "    <tr>\n",
       "      <th>0.6</th>\n",
       "      <td>0.6</td>\n",
       "      <td>0.845839</td>\n",
       "      <td>0.717627</td>\n",
       "      <td>0.850495</td>\n",
       "    </tr>\n",
       "    <tr>\n",
       "      <th>0.7</th>\n",
       "      <td>0.7</td>\n",
       "      <td>0.830076</td>\n",
       "      <td>0.629073</td>\n",
       "      <td>0.887972</td>\n",
       "    </tr>\n",
       "    <tr>\n",
       "      <th>0.8</th>\n",
       "      <td>0.8</td>\n",
       "      <td>0.808480</td>\n",
       "      <td>0.536759</td>\n",
       "      <td>0.923796</td>\n",
       "    </tr>\n",
       "    <tr>\n",
       "      <th>0.9</th>\n",
       "      <td>0.9</td>\n",
       "      <td>0.759615</td>\n",
       "      <td>0.386383</td>\n",
       "      <td>0.942915</td>\n",
       "    </tr>\n",
       "  </tbody>\n",
       "</table>\n",
       "</div>"
      ],
      "text/plain": [
       "     prob  accuracy     sensi  lead_conv_rate\n",
       "0.0   0.0  0.377364  1.000000        0.377364\n",
       "0.1   0.1  0.712484  0.966583        0.570232\n",
       "0.2   0.2  0.815259  0.928989        0.689399\n",
       "0.3   0.3  0.837957  0.857978        0.749088\n",
       "0.4   0.4  0.851986  0.819967        0.794415\n",
       "0.5   0.5  0.848834  0.761905        0.824221\n",
       "0.6   0.6  0.845839  0.717627        0.850495\n",
       "0.7   0.7  0.830076  0.629073        0.887972\n",
       "0.8   0.8  0.808480  0.536759        0.923796\n",
       "0.9   0.9  0.759615  0.386383        0.942915"
      ]
     },
     "execution_count": 1742,
     "metadata": {},
     "output_type": "execute_result"
    }
   ],
   "source": [
    "cutoff_df\n",
    "# Metrics doesn't improve much on increasing RFE columns from 15 to 20. \n",
    "#Will try keeping RFE as 15 and adjusting for p-values and VIF"
   ]
  },
  {
   "cell_type": "markdown",
   "id": "c6053249",
   "metadata": {},
   "source": [
    "#### RFE value being 15 and adjusting for p-values and VIF"
   ]
  },
  {
   "cell_type": "code",
   "execution_count": 1743,
   "id": "5c07e168",
   "metadata": {},
   "outputs": [
    {
     "data": {
      "text/html": [
       "<table class=\"simpletable\">\n",
       "<caption>Generalized Linear Model Regression Results</caption>\n",
       "<tr>\n",
       "  <th>Dep. Variable:</th>       <td>Converted</td>    <th>  No. Observations:  </th>  <td>  6344</td> \n",
       "</tr>\n",
       "<tr>\n",
       "  <th>Model:</th>                  <td>GLM</td>       <th>  Df Residuals:      </th>  <td>  6328</td> \n",
       "</tr>\n",
       "<tr>\n",
       "  <th>Model Family:</th>        <td>Binomial</td>     <th>  Df Model:          </th>  <td>    15</td> \n",
       "</tr>\n",
       "<tr>\n",
       "  <th>Link Function:</th>         <td>Logit</td>      <th>  Scale:             </th> <td>  1.0000</td>\n",
       "</tr>\n",
       "<tr>\n",
       "  <th>Method:</th>                <td>IRLS</td>       <th>  Log-Likelihood:    </th> <td> -2227.5</td>\n",
       "</tr>\n",
       "<tr>\n",
       "  <th>Date:</th>            <td>Tue, 22 Nov 2022</td> <th>  Deviance:          </th> <td>  4455.1</td>\n",
       "</tr>\n",
       "<tr>\n",
       "  <th>Time:</th>                <td>20:36:16</td>     <th>  Pearson chi2:      </th> <td>7.09e+03</td>\n",
       "</tr>\n",
       "<tr>\n",
       "  <th>No. Iterations:</th>          <td>7</td>        <th>  Pseudo R-squ. (CS):</th>  <td>0.4638</td> \n",
       "</tr>\n",
       "<tr>\n",
       "  <th>Covariance Type:</th>     <td>nonrobust</td>    <th>                     </th>     <td> </td>   \n",
       "</tr>\n",
       "</table>\n",
       "<table class=\"simpletable\">\n",
       "<tr>\n",
       "                     <td></td>                        <th>coef</th>     <th>std err</th>      <th>z</th>      <th>P>|z|</th>  <th>[0.025</th>    <th>0.975]</th>  \n",
       "</tr>\n",
       "<tr>\n",
       "  <th>const</th>                                   <td>   -2.6982</td> <td>    0.105</td> <td>  -25.759</td> <td> 0.000</td> <td>   -2.903</td> <td>   -2.493</td>\n",
       "</tr>\n",
       "<tr>\n",
       "  <th>Do Not Email</th>                            <td>   -0.8930</td> <td>    0.194</td> <td>   -4.601</td> <td> 0.000</td> <td>   -1.273</td> <td>   -0.513</td>\n",
       "</tr>\n",
       "<tr>\n",
       "  <th>Total Time Spent on Website</th>             <td>    1.0448</td> <td>    0.044</td> <td>   23.491</td> <td> 0.000</td> <td>    0.958</td> <td>    1.132</td>\n",
       "</tr>\n",
       "<tr>\n",
       "  <th>Lead Origin_Others</th>                      <td>    3.2607</td> <td>    0.199</td> <td>   16.406</td> <td> 0.000</td> <td>    2.871</td> <td>    3.650</td>\n",
       "</tr>\n",
       "<tr>\n",
       "  <th>Lead Source_Olark Chat</th>                  <td>    1.3225</td> <td>    0.111</td> <td>   11.924</td> <td> 0.000</td> <td>    1.105</td> <td>    1.540</td>\n",
       "</tr>\n",
       "<tr>\n",
       "  <th>Last Activity_Email Opened</th>              <td>    0.8275</td> <td>    0.108</td> <td>    7.658</td> <td> 0.000</td> <td>    0.616</td> <td>    1.039</td>\n",
       "</tr>\n",
       "<tr>\n",
       "  <th>Last Activity_Form Submitted on Website</th> <td>    0.6882</td> <td>    0.363</td> <td>    1.896</td> <td> 0.058</td> <td>   -0.023</td> <td>    1.400</td>\n",
       "</tr>\n",
       "<tr>\n",
       "  <th>Last Activity_Other</th>                     <td>    0.9913</td> <td>    0.275</td> <td>    3.610</td> <td> 0.000</td> <td>    0.453</td> <td>    1.529</td>\n",
       "</tr>\n",
       "<tr>\n",
       "  <th>Last Activity_SMS Sent</th>                  <td>    1.0514</td> <td>    0.166</td> <td>    6.337</td> <td> 0.000</td> <td>    0.726</td> <td>    1.377</td>\n",
       "</tr>\n",
       "<tr>\n",
       "  <th>Occupation_Working Professional</th>         <td>    1.7212</td> <td>    0.214</td> <td>    8.026</td> <td> 0.000</td> <td>    1.301</td> <td>    2.142</td>\n",
       "</tr>\n",
       "<tr>\n",
       "  <th>Lead Quality_High in Relevance</th>          <td>    3.5452</td> <td>    0.221</td> <td>   16.068</td> <td> 0.000</td> <td>    3.113</td> <td>    3.978</td>\n",
       "</tr>\n",
       "<tr>\n",
       "  <th>Lead Quality_Low in Relevance</th>           <td>    2.6142</td> <td>    0.163</td> <td>   16.016</td> <td> 0.000</td> <td>    2.294</td> <td>    2.934</td>\n",
       "</tr>\n",
       "<tr>\n",
       "  <th>Lead Quality_Might be</th>                   <td>    1.7278</td> <td>    0.104</td> <td>   16.555</td> <td> 0.000</td> <td>    1.523</td> <td>    1.932</td>\n",
       "</tr>\n",
       "<tr>\n",
       "  <th>Lead Quality_Worst</th>                      <td>   -2.0667</td> <td>    0.380</td> <td>   -5.442</td> <td> 0.000</td> <td>   -2.811</td> <td>   -1.322</td>\n",
       "</tr>\n",
       "<tr>\n",
       "  <th>Asymmetrique Activity Index_03.Low</th>      <td>   -1.7526</td> <td>    0.279</td> <td>   -6.288</td> <td> 0.000</td> <td>   -2.299</td> <td>   -1.206</td>\n",
       "</tr>\n",
       "<tr>\n",
       "  <th>Last Notable Activity_SMS Sent</th>          <td>    1.1973</td> <td>    0.156</td> <td>    7.688</td> <td> 0.000</td> <td>    0.892</td> <td>    1.503</td>\n",
       "</tr>\n",
       "</table>"
      ],
      "text/plain": [
       "<class 'statsmodels.iolib.summary.Summary'>\n",
       "\"\"\"\n",
       "                 Generalized Linear Model Regression Results                  \n",
       "==============================================================================\n",
       "Dep. Variable:              Converted   No. Observations:                 6344\n",
       "Model:                            GLM   Df Residuals:                     6328\n",
       "Model Family:                Binomial   Df Model:                           15\n",
       "Link Function:                  Logit   Scale:                          1.0000\n",
       "Method:                          IRLS   Log-Likelihood:                -2227.5\n",
       "Date:                Tue, 22 Nov 2022   Deviance:                       4455.1\n",
       "Time:                        20:36:16   Pearson chi2:                 7.09e+03\n",
       "No. Iterations:                     7   Pseudo R-squ. (CS):             0.4638\n",
       "Covariance Type:            nonrobust                                         \n",
       "===========================================================================================================\n",
       "                                              coef    std err          z      P>|z|      [0.025      0.975]\n",
       "-----------------------------------------------------------------------------------------------------------\n",
       "const                                      -2.6982      0.105    -25.759      0.000      -2.903      -2.493\n",
       "Do Not Email                               -0.8930      0.194     -4.601      0.000      -1.273      -0.513\n",
       "Total Time Spent on Website                 1.0448      0.044     23.491      0.000       0.958       1.132\n",
       "Lead Origin_Others                          3.2607      0.199     16.406      0.000       2.871       3.650\n",
       "Lead Source_Olark Chat                      1.3225      0.111     11.924      0.000       1.105       1.540\n",
       "Last Activity_Email Opened                  0.8275      0.108      7.658      0.000       0.616       1.039\n",
       "Last Activity_Form Submitted on Website     0.6882      0.363      1.896      0.058      -0.023       1.400\n",
       "Last Activity_Other                         0.9913      0.275      3.610      0.000       0.453       1.529\n",
       "Last Activity_SMS Sent                      1.0514      0.166      6.337      0.000       0.726       1.377\n",
       "Occupation_Working Professional             1.7212      0.214      8.026      0.000       1.301       2.142\n",
       "Lead Quality_High in Relevance              3.5452      0.221     16.068      0.000       3.113       3.978\n",
       "Lead Quality_Low in Relevance               2.6142      0.163     16.016      0.000       2.294       2.934\n",
       "Lead Quality_Might be                       1.7278      0.104     16.555      0.000       1.523       1.932\n",
       "Lead Quality_Worst                         -2.0667      0.380     -5.442      0.000      -2.811      -1.322\n",
       "Asymmetrique Activity Index_03.Low         -1.7526      0.279     -6.288      0.000      -2.299      -1.206\n",
       "Last Notable Activity_SMS Sent              1.1973      0.156      7.688      0.000       0.892       1.503\n",
       "===========================================================================================================\n",
       "\"\"\""
      ]
     },
     "execution_count": 1743,
     "metadata": {},
     "output_type": "execute_result"
    }
   ],
   "source": [
    "col_RFE = log_rfe(15) # Passing number of columns equalling 15 to log_rfe function getting 15 columns\n",
    "res = log_model(col_RFE) # Passing the 15 columns received from log_rfe function to log_model funciton to get the model\n",
    "res.summary()"
   ]
  },
  {
   "cell_type": "code",
   "execution_count": 1744,
   "id": "0b296f33",
   "metadata": {},
   "outputs": [],
   "source": [
    "# Last Activity_Form Submitted on Website has p-value greater than 5%. Dropping this columns and re-building model\n",
    "col_RFE = list(col_RFE)\n",
    "col_RFE.remove(\"Last Activity_Form Submitted on Website\")"
   ]
  },
  {
   "cell_type": "code",
   "execution_count": 1745,
   "id": "a5c1484c",
   "metadata": {},
   "outputs": [
    {
     "data": {
      "text/html": [
       "<table class=\"simpletable\">\n",
       "<caption>Generalized Linear Model Regression Results</caption>\n",
       "<tr>\n",
       "  <th>Dep. Variable:</th>       <td>Converted</td>    <th>  No. Observations:  </th>  <td>  6344</td> \n",
       "</tr>\n",
       "<tr>\n",
       "  <th>Model:</th>                  <td>GLM</td>       <th>  Df Residuals:      </th>  <td>  6329</td> \n",
       "</tr>\n",
       "<tr>\n",
       "  <th>Model Family:</th>        <td>Binomial</td>     <th>  Df Model:          </th>  <td>    14</td> \n",
       "</tr>\n",
       "<tr>\n",
       "  <th>Link Function:</th>         <td>Logit</td>      <th>  Scale:             </th> <td>  1.0000</td>\n",
       "</tr>\n",
       "<tr>\n",
       "  <th>Method:</th>                <td>IRLS</td>       <th>  Log-Likelihood:    </th> <td> -2229.2</td>\n",
       "</tr>\n",
       "<tr>\n",
       "  <th>Date:</th>            <td>Tue, 22 Nov 2022</td> <th>  Deviance:          </th> <td>  4458.4</td>\n",
       "</tr>\n",
       "<tr>\n",
       "  <th>Time:</th>                <td>20:36:16</td>     <th>  Pearson chi2:      </th> <td>7.15e+03</td>\n",
       "</tr>\n",
       "<tr>\n",
       "  <th>No. Iterations:</th>          <td>7</td>        <th>  Pseudo R-squ. (CS):</th>  <td>0.4635</td> \n",
       "</tr>\n",
       "<tr>\n",
       "  <th>Covariance Type:</th>     <td>nonrobust</td>    <th>                     </th>     <td> </td>   \n",
       "</tr>\n",
       "</table>\n",
       "<table class=\"simpletable\">\n",
       "<tr>\n",
       "                   <td></td>                     <th>coef</th>     <th>std err</th>      <th>z</th>      <th>P>|z|</th>  <th>[0.025</th>    <th>0.975]</th>  \n",
       "</tr>\n",
       "<tr>\n",
       "  <th>const</th>                              <td>   -2.6576</td> <td>    0.102</td> <td>  -26.106</td> <td> 0.000</td> <td>   -2.857</td> <td>   -2.458</td>\n",
       "</tr>\n",
       "<tr>\n",
       "  <th>Do Not Email</th>                       <td>   -0.9079</td> <td>    0.194</td> <td>   -4.691</td> <td> 0.000</td> <td>   -1.287</td> <td>   -0.529</td>\n",
       "</tr>\n",
       "<tr>\n",
       "  <th>Total Time Spent on Website</th>        <td>    1.0454</td> <td>    0.044</td> <td>   23.508</td> <td> 0.000</td> <td>    0.958</td> <td>    1.133</td>\n",
       "</tr>\n",
       "<tr>\n",
       "  <th>Lead Origin_Others</th>                 <td>    3.2598</td> <td>    0.199</td> <td>   16.408</td> <td> 0.000</td> <td>    2.870</td> <td>    3.649</td>\n",
       "</tr>\n",
       "<tr>\n",
       "  <th>Lead Source_Olark Chat</th>             <td>    1.3125</td> <td>    0.111</td> <td>   11.857</td> <td> 0.000</td> <td>    1.096</td> <td>    1.529</td>\n",
       "</tr>\n",
       "<tr>\n",
       "  <th>Last Activity_Email Opened</th>         <td>    0.7892</td> <td>    0.106</td> <td>    7.473</td> <td> 0.000</td> <td>    0.582</td> <td>    0.996</td>\n",
       "</tr>\n",
       "<tr>\n",
       "  <th>Last Activity_Other</th>                <td>    0.9539</td> <td>    0.274</td> <td>    3.486</td> <td> 0.000</td> <td>    0.418</td> <td>    1.490</td>\n",
       "</tr>\n",
       "<tr>\n",
       "  <th>Last Activity_SMS Sent</th>             <td>    1.0130</td> <td>    0.164</td> <td>    6.165</td> <td> 0.000</td> <td>    0.691</td> <td>    1.335</td>\n",
       "</tr>\n",
       "<tr>\n",
       "  <th>Occupation_Working Professional</th>    <td>    1.7228</td> <td>    0.214</td> <td>    8.039</td> <td> 0.000</td> <td>    1.303</td> <td>    2.143</td>\n",
       "</tr>\n",
       "<tr>\n",
       "  <th>Lead Quality_High in Relevance</th>     <td>    3.5379</td> <td>    0.220</td> <td>   16.053</td> <td> 0.000</td> <td>    3.106</td> <td>    3.970</td>\n",
       "</tr>\n",
       "<tr>\n",
       "  <th>Lead Quality_Low in Relevance</th>      <td>    2.6128</td> <td>    0.163</td> <td>   16.007</td> <td> 0.000</td> <td>    2.293</td> <td>    2.933</td>\n",
       "</tr>\n",
       "<tr>\n",
       "  <th>Lead Quality_Might be</th>              <td>    1.7278</td> <td>    0.104</td> <td>   16.558</td> <td> 0.000</td> <td>    1.523</td> <td>    1.932</td>\n",
       "</tr>\n",
       "<tr>\n",
       "  <th>Lead Quality_Worst</th>                 <td>   -2.0711</td> <td>    0.380</td> <td>   -5.454</td> <td> 0.000</td> <td>   -2.815</td> <td>   -1.327</td>\n",
       "</tr>\n",
       "<tr>\n",
       "  <th>Asymmetrique Activity Index_03.Low</th> <td>   -1.7346</td> <td>    0.280</td> <td>   -6.201</td> <td> 0.000</td> <td>   -2.283</td> <td>   -1.186</td>\n",
       "</tr>\n",
       "<tr>\n",
       "  <th>Last Notable Activity_SMS Sent</th>     <td>    1.1974</td> <td>    0.156</td> <td>    7.688</td> <td> 0.000</td> <td>    0.892</td> <td>    1.503</td>\n",
       "</tr>\n",
       "</table>"
      ],
      "text/plain": [
       "<class 'statsmodels.iolib.summary.Summary'>\n",
       "\"\"\"\n",
       "                 Generalized Linear Model Regression Results                  \n",
       "==============================================================================\n",
       "Dep. Variable:              Converted   No. Observations:                 6344\n",
       "Model:                            GLM   Df Residuals:                     6329\n",
       "Model Family:                Binomial   Df Model:                           14\n",
       "Link Function:                  Logit   Scale:                          1.0000\n",
       "Method:                          IRLS   Log-Likelihood:                -2229.2\n",
       "Date:                Tue, 22 Nov 2022   Deviance:                       4458.4\n",
       "Time:                        20:36:16   Pearson chi2:                 7.15e+03\n",
       "No. Iterations:                     7   Pseudo R-squ. (CS):             0.4635\n",
       "Covariance Type:            nonrobust                                         \n",
       "======================================================================================================\n",
       "                                         coef    std err          z      P>|z|      [0.025      0.975]\n",
       "------------------------------------------------------------------------------------------------------\n",
       "const                                 -2.6576      0.102    -26.106      0.000      -2.857      -2.458\n",
       "Do Not Email                          -0.9079      0.194     -4.691      0.000      -1.287      -0.529\n",
       "Total Time Spent on Website            1.0454      0.044     23.508      0.000       0.958       1.133\n",
       "Lead Origin_Others                     3.2598      0.199     16.408      0.000       2.870       3.649\n",
       "Lead Source_Olark Chat                 1.3125      0.111     11.857      0.000       1.096       1.529\n",
       "Last Activity_Email Opened             0.7892      0.106      7.473      0.000       0.582       0.996\n",
       "Last Activity_Other                    0.9539      0.274      3.486      0.000       0.418       1.490\n",
       "Last Activity_SMS Sent                 1.0130      0.164      6.165      0.000       0.691       1.335\n",
       "Occupation_Working Professional        1.7228      0.214      8.039      0.000       1.303       2.143\n",
       "Lead Quality_High in Relevance         3.5379      0.220     16.053      0.000       3.106       3.970\n",
       "Lead Quality_Low in Relevance          2.6128      0.163     16.007      0.000       2.293       2.933\n",
       "Lead Quality_Might be                  1.7278      0.104     16.558      0.000       1.523       1.932\n",
       "Lead Quality_Worst                    -2.0711      0.380     -5.454      0.000      -2.815      -1.327\n",
       "Asymmetrique Activity Index_03.Low    -1.7346      0.280     -6.201      0.000      -2.283      -1.186\n",
       "Last Notable Activity_SMS Sent         1.1974      0.156      7.688      0.000       0.892       1.503\n",
       "======================================================================================================\n",
       "\"\"\""
      ]
     },
     "execution_count": 1745,
     "metadata": {},
     "output_type": "execute_result"
    }
   ],
   "source": [
    "res = log_model(col_RFE) # Passing the updated col_RFE to log_model funciton to get the model\n",
    "res.summary()\n",
    "# All has p-value equalling zero"
   ]
  },
  {
   "cell_type": "code",
   "execution_count": 1746,
   "id": "d368e6ab",
   "metadata": {},
   "outputs": [
    {
     "data": {
      "text/html": [
       "<div>\n",
       "<style scoped>\n",
       "    .dataframe tbody tr th:only-of-type {\n",
       "        vertical-align: middle;\n",
       "    }\n",
       "\n",
       "    .dataframe tbody tr th {\n",
       "        vertical-align: top;\n",
       "    }\n",
       "\n",
       "    .dataframe thead th {\n",
       "        text-align: right;\n",
       "    }\n",
       "</style>\n",
       "<table border=\"1\" class=\"dataframe\">\n",
       "  <thead>\n",
       "    <tr style=\"text-align: right;\">\n",
       "      <th></th>\n",
       "      <th>Features</th>\n",
       "      <th>VIF</th>\n",
       "    </tr>\n",
       "  </thead>\n",
       "  <tbody>\n",
       "    <tr>\n",
       "      <th>6</th>\n",
       "      <td>Last Activity_SMS Sent</td>\n",
       "      <td>4.98</td>\n",
       "    </tr>\n",
       "    <tr>\n",
       "      <th>13</th>\n",
       "      <td>Last Notable Activity_SMS Sent</td>\n",
       "      <td>4.79</td>\n",
       "    </tr>\n",
       "    <tr>\n",
       "      <th>10</th>\n",
       "      <td>Lead Quality_Might be</td>\n",
       "      <td>1.62</td>\n",
       "    </tr>\n",
       "    <tr>\n",
       "      <th>1</th>\n",
       "      <td>Total Time Spent on Website</td>\n",
       "      <td>1.38</td>\n",
       "    </tr>\n",
       "    <tr>\n",
       "      <th>2</th>\n",
       "      <td>Lead Origin_Others</td>\n",
       "      <td>1.35</td>\n",
       "    </tr>\n",
       "    <tr>\n",
       "      <th>4</th>\n",
       "      <td>Last Activity_Email Opened</td>\n",
       "      <td>1.34</td>\n",
       "    </tr>\n",
       "    <tr>\n",
       "      <th>3</th>\n",
       "      <td>Lead Source_Olark Chat</td>\n",
       "      <td>1.33</td>\n",
       "    </tr>\n",
       "    <tr>\n",
       "      <th>7</th>\n",
       "      <td>Occupation_Working Professional</td>\n",
       "      <td>1.33</td>\n",
       "    </tr>\n",
       "    <tr>\n",
       "      <th>8</th>\n",
       "      <td>Lead Quality_High in Relevance</td>\n",
       "      <td>1.22</td>\n",
       "    </tr>\n",
       "    <tr>\n",
       "      <th>9</th>\n",
       "      <td>Lead Quality_Low in Relevance</td>\n",
       "      <td>1.20</td>\n",
       "    </tr>\n",
       "    <tr>\n",
       "      <th>0</th>\n",
       "      <td>Do Not Email</td>\n",
       "      <td>1.09</td>\n",
       "    </tr>\n",
       "    <tr>\n",
       "      <th>5</th>\n",
       "      <td>Last Activity_Other</td>\n",
       "      <td>1.08</td>\n",
       "    </tr>\n",
       "    <tr>\n",
       "      <th>11</th>\n",
       "      <td>Lead Quality_Worst</td>\n",
       "      <td>1.06</td>\n",
       "    </tr>\n",
       "    <tr>\n",
       "      <th>12</th>\n",
       "      <td>Asymmetrique Activity Index_03.Low</td>\n",
       "      <td>1.04</td>\n",
       "    </tr>\n",
       "  </tbody>\n",
       "</table>\n",
       "</div>"
      ],
      "text/plain": [
       "                              Features   VIF\n",
       "6               Last Activity_SMS Sent  4.98\n",
       "13      Last Notable Activity_SMS Sent  4.79\n",
       "10               Lead Quality_Might be  1.62\n",
       "1          Total Time Spent on Website  1.38\n",
       "2                   Lead Origin_Others  1.35\n",
       "4           Last Activity_Email Opened  1.34\n",
       "3               Lead Source_Olark Chat  1.33\n",
       "7      Occupation_Working Professional  1.33\n",
       "8       Lead Quality_High in Relevance  1.22\n",
       "9        Lead Quality_Low in Relevance  1.20\n",
       "0                         Do Not Email  1.09\n",
       "5                  Last Activity_Other  1.08\n",
       "11                  Lead Quality_Worst  1.06\n",
       "12  Asymmetrique Activity Index_03.Low  1.04"
      ]
     },
     "execution_count": 1746,
     "metadata": {},
     "output_type": "execute_result"
    }
   ],
   "source": [
    "# Checking for VIF\n",
    "vif = pd.DataFrame()\n",
    "vif['Features'] = X_train[col_RFE].columns\n",
    "vif['VIF'] = [variance_inflation_factor(X_train[col_RFE].values, i) for i in range(X_train[col_RFE].shape[1])]\n",
    "vif['VIF'] = round(vif['VIF'], 2)\n",
    "vif = vif.sort_values(by = \"VIF\", ascending = False)\n",
    "vif\n",
    "# Last Activity_SMS Sent has considerable (even though less than 5) VIF. It may be dropped and building again the model"
   ]
  },
  {
   "cell_type": "code",
   "execution_count": 1747,
   "id": "71c9d7c3",
   "metadata": {},
   "outputs": [],
   "source": [
    "col_RFE.remove(\"Last Activity_SMS Sent\") # Removing column \"Last Activity_SMS Sent\""
   ]
  },
  {
   "cell_type": "code",
   "execution_count": 1748,
   "id": "36e98b14",
   "metadata": {},
   "outputs": [
    {
     "data": {
      "text/html": [
       "<table class=\"simpletable\">\n",
       "<caption>Generalized Linear Model Regression Results</caption>\n",
       "<tr>\n",
       "  <th>Dep. Variable:</th>       <td>Converted</td>    <th>  No. Observations:  </th>  <td>  6344</td> \n",
       "</tr>\n",
       "<tr>\n",
       "  <th>Model:</th>                  <td>GLM</td>       <th>  Df Residuals:      </th>  <td>  6330</td> \n",
       "</tr>\n",
       "<tr>\n",
       "  <th>Model Family:</th>        <td>Binomial</td>     <th>  Df Model:          </th>  <td>    13</td> \n",
       "</tr>\n",
       "<tr>\n",
       "  <th>Link Function:</th>         <td>Logit</td>      <th>  Scale:             </th> <td>  1.0000</td>\n",
       "</tr>\n",
       "<tr>\n",
       "  <th>Method:</th>                <td>IRLS</td>       <th>  Log-Likelihood:    </th> <td> -2247.7</td>\n",
       "</tr>\n",
       "<tr>\n",
       "  <th>Date:</th>            <td>Tue, 22 Nov 2022</td> <th>  Deviance:          </th> <td>  4495.5</td>\n",
       "</tr>\n",
       "<tr>\n",
       "  <th>Time:</th>                <td>20:36:16</td>     <th>  Pearson chi2:      </th> <td>7.38e+03</td>\n",
       "</tr>\n",
       "<tr>\n",
       "  <th>No. Iterations:</th>          <td>7</td>        <th>  Pseudo R-squ. (CS):</th>  <td>0.4604</td> \n",
       "</tr>\n",
       "<tr>\n",
       "  <th>Covariance Type:</th>     <td>nonrobust</td>    <th>                     </th>     <td> </td>   \n",
       "</tr>\n",
       "</table>\n",
       "<table class=\"simpletable\">\n",
       "<tr>\n",
       "                   <td></td>                     <th>coef</th>     <th>std err</th>      <th>z</th>      <th>P>|z|</th>  <th>[0.025</th>    <th>0.975]</th>  \n",
       "</tr>\n",
       "<tr>\n",
       "  <th>const</th>                              <td>   -2.3934</td> <td>    0.088</td> <td>  -27.138</td> <td> 0.000</td> <td>   -2.566</td> <td>   -2.221</td>\n",
       "</tr>\n",
       "<tr>\n",
       "  <th>Do Not Email</th>                       <td>   -0.9328</td> <td>    0.191</td> <td>   -4.877</td> <td> 0.000</td> <td>   -1.308</td> <td>   -0.558</td>\n",
       "</tr>\n",
       "<tr>\n",
       "  <th>Total Time Spent on Website</th>        <td>    1.0481</td> <td>    0.044</td> <td>   23.662</td> <td> 0.000</td> <td>    0.961</td> <td>    1.135</td>\n",
       "</tr>\n",
       "<tr>\n",
       "  <th>Lead Origin_Others</th>                 <td>    3.4201</td> <td>    0.201</td> <td>   16.988</td> <td> 0.000</td> <td>    3.025</td> <td>    3.815</td>\n",
       "</tr>\n",
       "<tr>\n",
       "  <th>Lead Source_Olark Chat</th>             <td>    1.2572</td> <td>    0.109</td> <td>   11.498</td> <td> 0.000</td> <td>    1.043</td> <td>    1.471</td>\n",
       "</tr>\n",
       "<tr>\n",
       "  <th>Last Activity_Email Opened</th>         <td>    0.5318</td> <td>    0.094</td> <td>    5.647</td> <td> 0.000</td> <td>    0.347</td> <td>    0.716</td>\n",
       "</tr>\n",
       "<tr>\n",
       "  <th>Last Activity_Other</th>                <td>    0.6906</td> <td>    0.270</td> <td>    2.560</td> <td> 0.010</td> <td>    0.162</td> <td>    1.219</td>\n",
       "</tr>\n",
       "<tr>\n",
       "  <th>Occupation_Working Professional</th>    <td>    1.7011</td> <td>    0.214</td> <td>    7.961</td> <td> 0.000</td> <td>    1.282</td> <td>    2.120</td>\n",
       "</tr>\n",
       "<tr>\n",
       "  <th>Lead Quality_High in Relevance</th>     <td>    3.5326</td> <td>    0.221</td> <td>   15.982</td> <td> 0.000</td> <td>    3.099</td> <td>    3.966</td>\n",
       "</tr>\n",
       "<tr>\n",
       "  <th>Lead Quality_Low in Relevance</th>      <td>    2.5670</td> <td>    0.163</td> <td>   15.797</td> <td> 0.000</td> <td>    2.249</td> <td>    2.886</td>\n",
       "</tr>\n",
       "<tr>\n",
       "  <th>Lead Quality_Might be</th>              <td>    1.7602</td> <td>    0.104</td> <td>   16.927</td> <td> 0.000</td> <td>    1.556</td> <td>    1.964</td>\n",
       "</tr>\n",
       "<tr>\n",
       "  <th>Lead Quality_Worst</th>                 <td>   -2.1345</td> <td>    0.378</td> <td>   -5.640</td> <td> 0.000</td> <td>   -2.876</td> <td>   -1.393</td>\n",
       "</tr>\n",
       "<tr>\n",
       "  <th>Asymmetrique Activity Index_03.Low</th> <td>   -1.7479</td> <td>    0.279</td> <td>   -6.265</td> <td> 0.000</td> <td>   -2.295</td> <td>   -1.201</td>\n",
       "</tr>\n",
       "<tr>\n",
       "  <th>Last Notable Activity_SMS Sent</th>     <td>    1.9441</td> <td>    0.103</td> <td>   18.941</td> <td> 0.000</td> <td>    1.743</td> <td>    2.145</td>\n",
       "</tr>\n",
       "</table>"
      ],
      "text/plain": [
       "<class 'statsmodels.iolib.summary.Summary'>\n",
       "\"\"\"\n",
       "                 Generalized Linear Model Regression Results                  \n",
       "==============================================================================\n",
       "Dep. Variable:              Converted   No. Observations:                 6344\n",
       "Model:                            GLM   Df Residuals:                     6330\n",
       "Model Family:                Binomial   Df Model:                           13\n",
       "Link Function:                  Logit   Scale:                          1.0000\n",
       "Method:                          IRLS   Log-Likelihood:                -2247.7\n",
       "Date:                Tue, 22 Nov 2022   Deviance:                       4495.5\n",
       "Time:                        20:36:16   Pearson chi2:                 7.38e+03\n",
       "No. Iterations:                     7   Pseudo R-squ. (CS):             0.4604\n",
       "Covariance Type:            nonrobust                                         \n",
       "======================================================================================================\n",
       "                                         coef    std err          z      P>|z|      [0.025      0.975]\n",
       "------------------------------------------------------------------------------------------------------\n",
       "const                                 -2.3934      0.088    -27.138      0.000      -2.566      -2.221\n",
       "Do Not Email                          -0.9328      0.191     -4.877      0.000      -1.308      -0.558\n",
       "Total Time Spent on Website            1.0481      0.044     23.662      0.000       0.961       1.135\n",
       "Lead Origin_Others                     3.4201      0.201     16.988      0.000       3.025       3.815\n",
       "Lead Source_Olark Chat                 1.2572      0.109     11.498      0.000       1.043       1.471\n",
       "Last Activity_Email Opened             0.5318      0.094      5.647      0.000       0.347       0.716\n",
       "Last Activity_Other                    0.6906      0.270      2.560      0.010       0.162       1.219\n",
       "Occupation_Working Professional        1.7011      0.214      7.961      0.000       1.282       2.120\n",
       "Lead Quality_High in Relevance         3.5326      0.221     15.982      0.000       3.099       3.966\n",
       "Lead Quality_Low in Relevance          2.5670      0.163     15.797      0.000       2.249       2.886\n",
       "Lead Quality_Might be                  1.7602      0.104     16.927      0.000       1.556       1.964\n",
       "Lead Quality_Worst                    -2.1345      0.378     -5.640      0.000      -2.876      -1.393\n",
       "Asymmetrique Activity Index_03.Low    -1.7479      0.279     -6.265      0.000      -2.295      -1.201\n",
       "Last Notable Activity_SMS Sent         1.9441      0.103     18.941      0.000       1.743       2.145\n",
       "======================================================================================================\n",
       "\"\"\""
      ]
     },
     "execution_count": 1748,
     "metadata": {},
     "output_type": "execute_result"
    }
   ],
   "source": [
    "res = log_model(col_RFE) # Passing the updated col_RFE to log_model funciton to get the model\n",
    "res.summary()"
   ]
  },
  {
   "cell_type": "code",
   "execution_count": 1749,
   "id": "d8de87ab",
   "metadata": {},
   "outputs": [
    {
     "data": {
      "text/html": [
       "<div>\n",
       "<style scoped>\n",
       "    .dataframe tbody tr th:only-of-type {\n",
       "        vertical-align: middle;\n",
       "    }\n",
       "\n",
       "    .dataframe tbody tr th {\n",
       "        vertical-align: top;\n",
       "    }\n",
       "\n",
       "    .dataframe thead th {\n",
       "        text-align: right;\n",
       "    }\n",
       "</style>\n",
       "<table border=\"1\" class=\"dataframe\">\n",
       "  <thead>\n",
       "    <tr style=\"text-align: right;\">\n",
       "      <th></th>\n",
       "      <th>Features</th>\n",
       "      <th>VIF</th>\n",
       "    </tr>\n",
       "  </thead>\n",
       "  <tbody>\n",
       "    <tr>\n",
       "      <th>9</th>\n",
       "      <td>Lead Quality_Might be</td>\n",
       "      <td>1.60</td>\n",
       "    </tr>\n",
       "    <tr>\n",
       "      <th>12</th>\n",
       "      <td>Last Notable Activity_SMS Sent</td>\n",
       "      <td>1.40</td>\n",
       "    </tr>\n",
       "    <tr>\n",
       "      <th>1</th>\n",
       "      <td>Total Time Spent on Website</td>\n",
       "      <td>1.38</td>\n",
       "    </tr>\n",
       "    <tr>\n",
       "      <th>2</th>\n",
       "      <td>Lead Origin_Others</td>\n",
       "      <td>1.33</td>\n",
       "    </tr>\n",
       "    <tr>\n",
       "      <th>4</th>\n",
       "      <td>Last Activity_Email Opened</td>\n",
       "      <td>1.33</td>\n",
       "    </tr>\n",
       "    <tr>\n",
       "      <th>6</th>\n",
       "      <td>Occupation_Working Professional</td>\n",
       "      <td>1.33</td>\n",
       "    </tr>\n",
       "    <tr>\n",
       "      <th>3</th>\n",
       "      <td>Lead Source_Olark Chat</td>\n",
       "      <td>1.32</td>\n",
       "    </tr>\n",
       "    <tr>\n",
       "      <th>7</th>\n",
       "      <td>Lead Quality_High in Relevance</td>\n",
       "      <td>1.22</td>\n",
       "    </tr>\n",
       "    <tr>\n",
       "      <th>8</th>\n",
       "      <td>Lead Quality_Low in Relevance</td>\n",
       "      <td>1.20</td>\n",
       "    </tr>\n",
       "    <tr>\n",
       "      <th>0</th>\n",
       "      <td>Do Not Email</td>\n",
       "      <td>1.09</td>\n",
       "    </tr>\n",
       "    <tr>\n",
       "      <th>5</th>\n",
       "      <td>Last Activity_Other</td>\n",
       "      <td>1.08</td>\n",
       "    </tr>\n",
       "    <tr>\n",
       "      <th>10</th>\n",
       "      <td>Lead Quality_Worst</td>\n",
       "      <td>1.06</td>\n",
       "    </tr>\n",
       "    <tr>\n",
       "      <th>11</th>\n",
       "      <td>Asymmetrique Activity Index_03.Low</td>\n",
       "      <td>1.04</td>\n",
       "    </tr>\n",
       "  </tbody>\n",
       "</table>\n",
       "</div>"
      ],
      "text/plain": [
       "                              Features   VIF\n",
       "9                Lead Quality_Might be  1.60\n",
       "12      Last Notable Activity_SMS Sent  1.40\n",
       "1          Total Time Spent on Website  1.38\n",
       "2                   Lead Origin_Others  1.33\n",
       "4           Last Activity_Email Opened  1.33\n",
       "6      Occupation_Working Professional  1.33\n",
       "3               Lead Source_Olark Chat  1.32\n",
       "7       Lead Quality_High in Relevance  1.22\n",
       "8        Lead Quality_Low in Relevance  1.20\n",
       "0                         Do Not Email  1.09\n",
       "5                  Last Activity_Other  1.08\n",
       "10                  Lead Quality_Worst  1.06\n",
       "11  Asymmetrique Activity Index_03.Low  1.04"
      ]
     },
     "execution_count": 1749,
     "metadata": {},
     "output_type": "execute_result"
    }
   ],
   "source": [
    "# Checking for VIF again\n",
    "vif = pd.DataFrame()\n",
    "vif['Features'] = X_train[col_RFE].columns\n",
    "vif['VIF'] = [variance_inflation_factor(X_train[col_RFE].values, i) for i in range(X_train[col_RFE].shape[1])]\n",
    "vif['VIF'] = round(vif['VIF'], 2)\n",
    "vif = vif.sort_values(by = \"VIF\", ascending = False)\n",
    "vif\n",
    "# All columns have considerably lower VIF"
   ]
  },
  {
   "cell_type": "code",
   "execution_count": 1750,
   "id": "a76fbca3",
   "metadata": {},
   "outputs": [
    {
     "data": {
      "image/png": "[encoded data removed]",
      "text/plain": [
       "<Figure size 432x288 with 1 Axes>"
      ]
     },
     "metadata": {
      "needs_background": "light"
     },
     "output_type": "display_data"
    }
   ],
   "source": [
    "y_train_pred_final, cutoff_df = plot_curve(res, col_RFE) # Plotting the metrics "
   ]
  },
  {
   "cell_type": "code",
   "execution_count": 1751,
   "id": "d300b205",
   "metadata": {},
   "outputs": [
    {
     "data": {
      "text/html": [
       "<div>\n",
       "<style scoped>\n",
       "    .dataframe tbody tr th:only-of-type {\n",
       "        vertical-align: middle;\n",
       "    }\n",
       "\n",
       "    .dataframe tbody tr th {\n",
       "        vertical-align: top;\n",
       "    }\n",
       "\n",
       "    .dataframe thead th {\n",
       "        text-align: right;\n",
       "    }\n",
       "</style>\n",
       "<table border=\"1\" class=\"dataframe\">\n",
       "  <thead>\n",
       "    <tr style=\"text-align: right;\">\n",
       "      <th></th>\n",
       "      <th>prob</th>\n",
       "      <th>accuracy</th>\n",
       "      <th>sensi</th>\n",
       "      <th>lead_conv_rate</th>\n",
       "    </tr>\n",
       "  </thead>\n",
       "  <tbody>\n",
       "    <tr>\n",
       "      <th>0.0</th>\n",
       "      <td>0.0</td>\n",
       "      <td>0.377364</td>\n",
       "      <td>1.000000</td>\n",
       "      <td>0.377364</td>\n",
       "    </tr>\n",
       "    <tr>\n",
       "      <th>0.1</th>\n",
       "      <td>0.1</td>\n",
       "      <td>0.663304</td>\n",
       "      <td>0.968672</td>\n",
       "      <td>0.529452</td>\n",
       "    </tr>\n",
       "    <tr>\n",
       "      <th>0.2</th>\n",
       "      <td>0.2</td>\n",
       "      <td>0.812421</td>\n",
       "      <td>0.906433</td>\n",
       "      <td>0.691964</td>\n",
       "    </tr>\n",
       "    <tr>\n",
       "      <th>0.3</th>\n",
       "      <td>0.3</td>\n",
       "      <td>0.841583</td>\n",
       "      <td>0.860485</td>\n",
       "      <td>0.754302</td>\n",
       "    </tr>\n",
       "    <tr>\n",
       "      <th>0.4</th>\n",
       "      <td>0.4</td>\n",
       "      <td>0.852301</td>\n",
       "      <td>0.814536</td>\n",
       "      <td>0.798199</td>\n",
       "    </tr>\n",
       "    <tr>\n",
       "      <th>0.5</th>\n",
       "      <td>0.5</td>\n",
       "      <td>0.843474</td>\n",
       "      <td>0.739348</td>\n",
       "      <td>0.827489</td>\n",
       "    </tr>\n",
       "    <tr>\n",
       "      <th>0.6</th>\n",
       "      <td>0.6</td>\n",
       "      <td>0.836538</td>\n",
       "      <td>0.691312</td>\n",
       "      <td>0.847414</td>\n",
       "    </tr>\n",
       "    <tr>\n",
       "      <th>0.7</th>\n",
       "      <td>0.7</td>\n",
       "      <td>0.826923</td>\n",
       "      <td>0.618212</td>\n",
       "      <td>0.889423</td>\n",
       "    </tr>\n",
       "    <tr>\n",
       "      <th>0.8</th>\n",
       "      <td>0.8</td>\n",
       "      <td>0.806747</td>\n",
       "      <td>0.532164</td>\n",
       "      <td>0.923188</td>\n",
       "    </tr>\n",
       "    <tr>\n",
       "      <th>0.9</th>\n",
       "      <td>0.9</td>\n",
       "      <td>0.757881</td>\n",
       "      <td>0.382623</td>\n",
       "      <td>0.940452</td>\n",
       "    </tr>\n",
       "  </tbody>\n",
       "</table>\n",
       "</div>"
      ],
      "text/plain": [
       "     prob  accuracy     sensi  lead_conv_rate\n",
       "0.0   0.0  0.377364  1.000000        0.377364\n",
       "0.1   0.1  0.663304  0.968672        0.529452\n",
       "0.2   0.2  0.812421  0.906433        0.691964\n",
       "0.3   0.3  0.841583  0.860485        0.754302\n",
       "0.4   0.4  0.852301  0.814536        0.798199\n",
       "0.5   0.5  0.843474  0.739348        0.827489\n",
       "0.6   0.6  0.836538  0.691312        0.847414\n",
       "0.7   0.7  0.826923  0.618212        0.889423\n",
       "0.8   0.8  0.806747  0.532164        0.923188\n",
       "0.9   0.9  0.757881  0.382623        0.940452"
      ]
     },
     "execution_count": 1751,
     "metadata": {},
     "output_type": "execute_result"
    }
   ],
   "source": [
    "cutoff_df\n",
    "# Lead conversion rate is almost 80% for probability equalling 0.4 with sensitivity and accuracy also being pretty high\n",
    "# Lead conversion rate is 82.75% for probability equalling 0.5 but there is huge drop in sensitivity value\n",
    "# Will try to find optimum cutoff probability value between 0.4 and 0.5"
   ]
  },
  {
   "cell_type": "markdown",
   "id": "ba7ccb84",
   "metadata": {},
   "source": [
    "#### Trying to find the optimum value of cut-off probability between 0.4 and 0.5"
   ]
  },
  {
   "cell_type": "code",
   "execution_count": 1752,
   "id": "f3fc5982",
   "metadata": {},
   "outputs": [],
   "source": [
    "# Calculating metrics for probability cutoff values of 0.41,0.42 and so on\n",
    "numbers = [0.41,0.42,0.43,0.44,0.45,0.46,0.47,0.48,0.49]\n",
    "for i in numbers:\n",
    "    y_train_pred_final[i]= y_train_pred_final.Converted_Prob.map(lambda x: 1 if x > i else 0)\n",
    "    cm1 = metrics.confusion_matrix(y_train_pred_final.Converted, y_train_pred_final[i] )\n",
    "    total1=sum(sum(cm1))\n",
    "    accuracy = (cm1[0,0]+cm1[1,1])/total1\n",
    "    lead_conv_rate = cm1[1,1]/(cm1[0,1]+cm1[1,1])\n",
    "    sensi = cm1[1,1]/(cm1[1,0]+cm1[1,1])\n",
    "    cutoff_df.loc[i] =[ i ,accuracy,sensi,lead_conv_rate]\n",
    "    "
   ]
  },
  {
   "cell_type": "code",
   "execution_count": 1753,
   "id": "4339f2f9",
   "metadata": {},
   "outputs": [
    {
     "data": {
      "text/html": [
       "<div>\n",
       "<style scoped>\n",
       "    .dataframe tbody tr th:only-of-type {\n",
       "        vertical-align: middle;\n",
       "    }\n",
       "\n",
       "    .dataframe tbody tr th {\n",
       "        vertical-align: top;\n",
       "    }\n",
       "\n",
       "    .dataframe thead th {\n",
       "        text-align: right;\n",
       "    }\n",
       "</style>\n",
       "<table border=\"1\" class=\"dataframe\">\n",
       "  <thead>\n",
       "    <tr style=\"text-align: right;\">\n",
       "      <th></th>\n",
       "      <th>prob</th>\n",
       "      <th>accuracy</th>\n",
       "      <th>sensi</th>\n",
       "      <th>lead_conv_rate</th>\n",
       "    </tr>\n",
       "  </thead>\n",
       "  <tbody>\n",
       "    <tr>\n",
       "      <th>0.00</th>\n",
       "      <td>0.00</td>\n",
       "      <td>0.377364</td>\n",
       "      <td>1.000000</td>\n",
       "      <td>0.377364</td>\n",
       "    </tr>\n",
       "    <tr>\n",
       "      <th>0.10</th>\n",
       "      <td>0.10</td>\n",
       "      <td>0.663304</td>\n",
       "      <td>0.968672</td>\n",
       "      <td>0.529452</td>\n",
       "    </tr>\n",
       "    <tr>\n",
       "      <th>0.20</th>\n",
       "      <td>0.20</td>\n",
       "      <td>0.812421</td>\n",
       "      <td>0.906433</td>\n",
       "      <td>0.691964</td>\n",
       "    </tr>\n",
       "    <tr>\n",
       "      <th>0.30</th>\n",
       "      <td>0.30</td>\n",
       "      <td>0.841583</td>\n",
       "      <td>0.860485</td>\n",
       "      <td>0.754302</td>\n",
       "    </tr>\n",
       "    <tr>\n",
       "      <th>0.40</th>\n",
       "      <td>0.40</td>\n",
       "      <td>0.852301</td>\n",
       "      <td>0.814536</td>\n",
       "      <td>0.798199</td>\n",
       "    </tr>\n",
       "    <tr>\n",
       "      <th>0.50</th>\n",
       "      <td>0.50</td>\n",
       "      <td>0.843474</td>\n",
       "      <td>0.739348</td>\n",
       "      <td>0.827489</td>\n",
       "    </tr>\n",
       "    <tr>\n",
       "      <th>0.60</th>\n",
       "      <td>0.60</td>\n",
       "      <td>0.836538</td>\n",
       "      <td>0.691312</td>\n",
       "      <td>0.847414</td>\n",
       "    </tr>\n",
       "    <tr>\n",
       "      <th>0.70</th>\n",
       "      <td>0.70</td>\n",
       "      <td>0.826923</td>\n",
       "      <td>0.618212</td>\n",
       "      <td>0.889423</td>\n",
       "    </tr>\n",
       "    <tr>\n",
       "      <th>0.80</th>\n",
       "      <td>0.80</td>\n",
       "      <td>0.806747</td>\n",
       "      <td>0.532164</td>\n",
       "      <td>0.923188</td>\n",
       "    </tr>\n",
       "    <tr>\n",
       "      <th>0.90</th>\n",
       "      <td>0.90</td>\n",
       "      <td>0.757881</td>\n",
       "      <td>0.382623</td>\n",
       "      <td>0.940452</td>\n",
       "    </tr>\n",
       "    <tr>\n",
       "      <th>0.41</th>\n",
       "      <td>0.41</td>\n",
       "      <td>0.852617</td>\n",
       "      <td>0.811195</td>\n",
       "      <td>0.800825</td>\n",
       "    </tr>\n",
       "    <tr>\n",
       "      <th>0.42</th>\n",
       "      <td>0.42</td>\n",
       "      <td>0.852301</td>\n",
       "      <td>0.806182</td>\n",
       "      <td>0.803163</td>\n",
       "    </tr>\n",
       "    <tr>\n",
       "      <th>0.43</th>\n",
       "      <td>0.43</td>\n",
       "      <td>0.850567</td>\n",
       "      <td>0.796157</td>\n",
       "      <td>0.805579</td>\n",
       "    </tr>\n",
       "    <tr>\n",
       "      <th>0.44</th>\n",
       "      <td>0.44</td>\n",
       "      <td>0.850252</td>\n",
       "      <td>0.791980</td>\n",
       "      <td>0.807496</td>\n",
       "    </tr>\n",
       "    <tr>\n",
       "      <th>0.45</th>\n",
       "      <td>0.45</td>\n",
       "      <td>0.851356</td>\n",
       "      <td>0.790309</td>\n",
       "      <td>0.810973</td>\n",
       "    </tr>\n",
       "    <tr>\n",
       "      <th>0.46</th>\n",
       "      <td>0.46</td>\n",
       "      <td>0.850725</td>\n",
       "      <td>0.784879</td>\n",
       "      <td>0.813068</td>\n",
       "    </tr>\n",
       "    <tr>\n",
       "      <th>0.47</th>\n",
       "      <td>0.47</td>\n",
       "      <td>0.850252</td>\n",
       "      <td>0.780284</td>\n",
       "      <td>0.815009</td>\n",
       "    </tr>\n",
       "    <tr>\n",
       "      <th>0.48</th>\n",
       "      <td>0.48</td>\n",
       "      <td>0.843159</td>\n",
       "      <td>0.746867</td>\n",
       "      <td>0.821314</td>\n",
       "    </tr>\n",
       "    <tr>\n",
       "      <th>0.49</th>\n",
       "      <td>0.49</td>\n",
       "      <td>0.842686</td>\n",
       "      <td>0.742690</td>\n",
       "      <td>0.823148</td>\n",
       "    </tr>\n",
       "  </tbody>\n",
       "</table>\n",
       "</div>"
      ],
      "text/plain": [
       "      prob  accuracy     sensi  lead_conv_rate\n",
       "0.00  0.00  0.377364  1.000000        0.377364\n",
       "0.10  0.10  0.663304  0.968672        0.529452\n",
       "0.20  0.20  0.812421  0.906433        0.691964\n",
       "0.30  0.30  0.841583  0.860485        0.754302\n",
       "0.40  0.40  0.852301  0.814536        0.798199\n",
       "0.50  0.50  0.843474  0.739348        0.827489\n",
       "0.60  0.60  0.836538  0.691312        0.847414\n",
       "0.70  0.70  0.826923  0.618212        0.889423\n",
       "0.80  0.80  0.806747  0.532164        0.923188\n",
       "0.90  0.90  0.757881  0.382623        0.940452\n",
       "0.41  0.41  0.852617  0.811195        0.800825\n",
       "0.42  0.42  0.852301  0.806182        0.803163\n",
       "0.43  0.43  0.850567  0.796157        0.805579\n",
       "0.44  0.44  0.850252  0.791980        0.807496\n",
       "0.45  0.45  0.851356  0.790309        0.810973\n",
       "0.46  0.46  0.850725  0.784879        0.813068\n",
       "0.47  0.47  0.850252  0.780284        0.815009\n",
       "0.48  0.48  0.843159  0.746867        0.821314\n",
       "0.49  0.49  0.842686  0.742690        0.823148"
      ]
     },
     "execution_count": 1753,
     "metadata": {},
     "output_type": "execute_result"
    }
   ],
   "source": [
    "# Looking at cutoff_df dataframe to choose optimum value of probability\n",
    "cutoff_df\n",
    "# Choosing probability value of 0.45 as it leads to lead_conversion_rate greater than 81% with all other metrics also being high"
   ]
  },
  {
   "cell_type": "code",
   "execution_count": 1754,
   "id": "5d62cfc1",
   "metadata": {},
   "outputs": [
    {
     "data": {
      "image/png": "[encoded data removed]",
      "text/plain": [
       "<Figure size 360x360 with 1 Axes>"
      ]
     },
     "metadata": {
      "needs_background": "light"
     },
     "output_type": "display_data"
    }
   ],
   "source": [
    "# Drawing ROC to check for model efficiency\n",
    "draw_roc(y_train_pred_final)\n",
    "# ROC value equallong 0.92 shows that model is pretty efficient"
   ]
  },
  {
   "cell_type": "code",
   "execution_count": 1755,
   "id": "2fd093b2",
   "metadata": {},
   "outputs": [],
   "source": [
    "y_train_pred_final[\"Final_Predicted\"] = y_train_pred_final[0.45] # Making column of final predicted y_train values"
   ]
  },
  {
   "cell_type": "markdown",
   "id": "6c8203ff",
   "metadata": {},
   "source": [
    "##### Calculating metrics for the model"
   ]
  },
  {
   "cell_type": "code",
   "execution_count": 1756,
   "id": "5eb502ed",
   "metadata": {},
   "outputs": [
    {
     "data": {
      "text/plain": [
       "array([[3509,  441],\n",
       "       [ 502, 1892]], dtype=int64)"
      ]
     },
     "execution_count": 1756,
     "metadata": {},
     "output_type": "execute_result"
    }
   ],
   "source": [
    "# Confusion Matrix of final model\n",
    "confusion = metrics.confusion_matrix(y_train_pred_final.Converted, y_train_pred_final.Final_Predicted )\n",
    "confusion"
   ]
  },
  {
   "cell_type": "code",
   "execution_count": 1757,
   "id": "7c8917f9",
   "metadata": {},
   "outputs": [],
   "source": [
    "TP = confusion[1,1] # true positive \n",
    "TN = confusion[0,0] # true negatives\n",
    "FP = confusion[0,1] # false positives\n",
    "FN = confusion[1,0] # false negatives"
   ]
  },
  {
   "cell_type": "code",
   "execution_count": 1758,
   "id": "915af3d7",
   "metadata": {},
   "outputs": [
    {
     "data": {
      "text/plain": [
       "0.7903091060985797"
      ]
     },
     "execution_count": 1758,
     "metadata": {},
     "output_type": "execute_result"
    }
   ],
   "source": [
    "# Let's see the sensitivity/recall of our logistic regression model\n",
    "TP / float(TP+FN)"
   ]
  },
  {
   "cell_type": "code",
   "execution_count": 1759,
   "id": "5fb43de1",
   "metadata": {},
   "outputs": [
    {
     "data": {
      "text/plain": [
       "0.8883544303797468"
      ]
     },
     "execution_count": 1759,
     "metadata": {},
     "output_type": "execute_result"
    }
   ],
   "source": [
    "# Let us calculate specificity\n",
    "TN / float(TN+FP)"
   ]
  },
  {
   "cell_type": "code",
   "execution_count": 1760,
   "id": "a2d2c89f",
   "metadata": {},
   "outputs": [
    {
     "name": "stdout",
     "output_type": "stream",
     "text": [
      "0.11164556962025317\n"
     ]
    }
   ],
   "source": [
    "# Calculate false postive rate\n",
    "print(FP/ float(TN+FP))"
   ]
  },
  {
   "cell_type": "code",
   "execution_count": 1761,
   "id": "7e66aab2",
   "metadata": {},
   "outputs": [
    {
     "name": "stdout",
     "output_type": "stream",
     "text": [
      "0.810972996142306\n"
     ]
    }
   ],
   "source": [
    "# Precision (Lead conversion Rate) \n",
    "print (TP / float(TP+FP))"
   ]
  },
  {
   "cell_type": "code",
   "execution_count": 1762,
   "id": "2f7e4943",
   "metadata": {},
   "outputs": [
    {
     "name": "stdout",
     "output_type": "stream",
     "text": [
      "0.8748441785091\n"
     ]
    }
   ],
   "source": [
    "# Negative predictive value\n",
    "print (TN / float(TN+ FN))"
   ]
  },
  {
   "cell_type": "markdown",
   "id": "10829131",
   "metadata": {},
   "source": [
    "### Making predictions on the test set"
   ]
  },
  {
   "cell_type": "code",
   "execution_count": 1763,
   "id": "691a5139",
   "metadata": {},
   "outputs": [
    {
     "data": {
      "text/html": [
       "<div>\n",
       "<style scoped>\n",
       "    .dataframe tbody tr th:only-of-type {\n",
       "        vertical-align: middle;\n",
       "    }\n",
       "\n",
       "    .dataframe tbody tr th {\n",
       "        vertical-align: top;\n",
       "    }\n",
       "\n",
       "    .dataframe thead th {\n",
       "        text-align: right;\n",
       "    }\n",
       "</style>\n",
       "<table border=\"1\" class=\"dataframe\">\n",
       "  <thead>\n",
       "    <tr style=\"text-align: right;\">\n",
       "      <th></th>\n",
       "      <th>TotalVisits</th>\n",
       "      <th>Total Time Spent on Website</th>\n",
       "      <th>Page Views Per Visit</th>\n",
       "    </tr>\n",
       "  </thead>\n",
       "  <tbody>\n",
       "    <tr>\n",
       "      <th>count</th>\n",
       "      <td>2720.000000</td>\n",
       "      <td>2720.000000</td>\n",
       "      <td>2720.000000</td>\n",
       "    </tr>\n",
       "    <tr>\n",
       "      <th>mean</th>\n",
       "      <td>0.009872</td>\n",
       "      <td>0.049683</td>\n",
       "      <td>0.008020</td>\n",
       "    </tr>\n",
       "    <tr>\n",
       "      <th>std</th>\n",
       "      <td>1.004751</td>\n",
       "      <td>1.026798</td>\n",
       "      <td>0.996927</td>\n",
       "    </tr>\n",
       "    <tr>\n",
       "      <th>min</th>\n",
       "      <td>-0.981096</td>\n",
       "      <td>-0.877766</td>\n",
       "      <td>-1.134477</td>\n",
       "    </tr>\n",
       "    <tr>\n",
       "      <th>25%</th>\n",
       "      <td>-0.688845</td>\n",
       "      <td>-0.839390</td>\n",
       "      <td>-0.652625</td>\n",
       "    </tr>\n",
       "    <tr>\n",
       "      <th>50%</th>\n",
       "      <td>-0.104343</td>\n",
       "      <td>-0.404304</td>\n",
       "      <td>-0.170773</td>\n",
       "    </tr>\n",
       "    <tr>\n",
       "      <th>75%</th>\n",
       "      <td>0.480160</td>\n",
       "      <td>0.903728</td>\n",
       "      <td>0.311078</td>\n",
       "    </tr>\n",
       "    <tr>\n",
       "      <th>max</th>\n",
       "      <td>7.494190</td>\n",
       "      <td>3.289071</td>\n",
       "      <td>5.852373</td>\n",
       "    </tr>\n",
       "  </tbody>\n",
       "</table>\n",
       "</div>"
      ],
      "text/plain": [
       "       TotalVisits  Total Time Spent on Website  Page Views Per Visit\n",
       "count  2720.000000                  2720.000000           2720.000000\n",
       "mean      0.009872                     0.049683              0.008020\n",
       "std       1.004751                     1.026798              0.996927\n",
       "min      -0.981096                    -0.877766             -1.134477\n",
       "25%      -0.688845                    -0.839390             -0.652625\n",
       "50%      -0.104343                    -0.404304             -0.170773\n",
       "75%       0.480160                     0.903728              0.311078\n",
       "max       7.494190                     3.289071              5.852373"
      ]
     },
     "execution_count": 1763,
     "metadata": {},
     "output_type": "execute_result"
    }
   ],
   "source": [
    "# Feature scaling on the test set\n",
    "X_test[col_scale] = scaler.transform(X_test[col_scale])\n",
    "X_test[col_scale].describe()"
   ]
  },
  {
   "cell_type": "code",
   "execution_count": 1764,
   "id": "e3c717c1",
   "metadata": {},
   "outputs": [],
   "source": [
    "# Calculating y_test probabilities based on \"res\" model\n",
    "X_test_sm = sm.add_constant(X_test[col_RFE])\n",
    "y_test_pred = res.predict(X_test_sm)"
   ]
  },
  {
   "cell_type": "code",
   "execution_count": 1765,
   "id": "0ce45f3b",
   "metadata": {},
   "outputs": [],
   "source": [
    "# Converting y_test_pred to dataframe\n",
    "y_test_pred = pd.DataFrame(y_test_pred)"
   ]
  },
  {
   "cell_type": "code",
   "execution_count": 1766,
   "id": "7ac0b470",
   "metadata": {},
   "outputs": [],
   "source": [
    "# Changing the name of column from 0 to \"Converted_Prob\" \n",
    "y_test_pred.rename(columns = {0:'Converted_Prob'}, inplace = True)"
   ]
  },
  {
   "cell_type": "code",
   "execution_count": 1767,
   "id": "17e964a6",
   "metadata": {},
   "outputs": [],
   "source": [
    "# Making a column of actual values of y_test\n",
    "y_test_pred[\"Converted\"] = y_test.values"
   ]
  },
  {
   "cell_type": "code",
   "execution_count": 1768,
   "id": "b17f8c94",
   "metadata": {},
   "outputs": [],
   "source": [
    "# making column \"Final_Predicted\" based on cutoff probability of 0.45\n",
    "y_test_pred['Final_Predicted'] = y_test_pred.Converted_Prob.map(lambda x: 1 if x > 0.45 else 0)"
   ]
  },
  {
   "cell_type": "markdown",
   "id": "aea2acd4",
   "metadata": {},
   "source": [
    "#### Calculating metrics on test data"
   ]
  },
  {
   "cell_type": "code",
   "execution_count": 1769,
   "id": "9a706807",
   "metadata": {},
   "outputs": [
    {
     "data": {
      "text/plain": [
       "array([[1502,  179],\n",
       "       [ 195,  844]], dtype=int64)"
      ]
     },
     "execution_count": 1769,
     "metadata": {},
     "output_type": "execute_result"
    }
   ],
   "source": [
    "# Confusion Matrix on test data\n",
    "confusion = metrics.confusion_matrix(y_test_pred.Converted, y_test_pred.Final_Predicted )\n",
    "confusion"
   ]
  },
  {
   "cell_type": "code",
   "execution_count": 1770,
   "id": "b190ccb0",
   "metadata": {},
   "outputs": [],
   "source": [
    "TP = confusion[1,1] # true positive \n",
    "TN = confusion[0,0] # true negatives\n",
    "FP = confusion[0,1] # false positives\n",
    "FN = confusion[1,0] # false negatives"
   ]
  },
  {
   "cell_type": "code",
   "execution_count": 1771,
   "id": "ec5556c0",
   "metadata": {},
   "outputs": [
    {
     "name": "stdout",
     "output_type": "stream",
     "text": [
      "Sensitivity is  0.8123195380173244\n",
      "Specificity is  0.8935157644259369\n",
      "Lead Conversion Rate is  0.8250244379276638\n",
      "Accuracy is  0.8625\n"
     ]
    }
   ],
   "source": [
    "print(\"Sensitivity is \", TP/(TP+FN))\n",
    "print(\"Specificity is \", TN/(TN+FP))\n",
    "print(\"Lead Conversion Rate is \", TP/(TP+FP))\n",
    "print(\"Accuracy is \", (TP+TN)/(TP+TN+FP+FN))"
   ]
  },
  {
   "cell_type": "markdown",
   "id": "62320aac",
   "metadata": {},
   "source": [
    "## All metrics are expected and in-line with metrics on train data"
   ]
  }
 ],
 "metadata": {
  "kernelspec": {
   "display_name": "Python 3 (ipykernel)",
   "language": "python",
   "name": "python3"
  },
  "language_info": {
   "codemirror_mode": {
    "name": "ipython",
    "version": 3
   },
   "file_extension": ".py",
   "mimetype": "text/x-python",
   "name": "python",
   "nbconvert_exporter": "python",
   "pygments_lexer": "ipython3",
   "version": "3.9.12"
  }
 },
 "nbformat": 4,
 "nbformat_minor": 5
}
